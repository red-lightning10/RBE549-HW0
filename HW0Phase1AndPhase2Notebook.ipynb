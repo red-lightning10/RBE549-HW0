{
 "cells": [
  {
   "cell_type": "markdown",
   "metadata": {
    "id": "zoAmRych4zjz"
   },
   "source": [
    "# RBE/CS549 Fall 2022: Computer Vision\n",
    "## Homework 0: Alohomora\n",
    "\n",
    "Author(s): \n",
    "Prof. Nitin J. Sanket (nsanket@wpi.edu), Lening Li (lli4@wpi.edu), Gejji, Vaishnavi Vivek (vgejji@wpi.edu)\n",
    "\n",
    "Robotics Engineering Department,\n",
    "\n",
    "Worcester Polytechnic Institute\n",
    "\n",
    "Code adapted from CMSC733 at the University of Maryland, College Park."
   ]
  },
  {
   "cell_type": "markdown",
   "metadata": {
    "id": "_OTbKmZc84z9"
   },
   "source": [
    "\n",
    "## Phase 1\n",
    "\n",
    "\n"
   ]
  },
  {
   "cell_type": "markdown",
   "metadata": {
    "id": "tShNtcK9syo_"
   },
   "source": [
    "### Get the BSDS500 dataset"
   ]
  },
  {
   "cell_type": "code",
   "execution_count": 1,
   "metadata": {
    "id": "6poCzkgco7sv"
   },
   "outputs": [
    {
     "name": "stderr",
     "output_type": "stream",
     "text": [
      "--2024-01-15 20:47:00--  https://raw.githubusercontent.com/leelening/rbe549/main/hw0/BSDS500.tar.xz\n",
      "Resolving raw.githubusercontent.com (raw.githubusercontent.com)... 185.199.108.133, 185.199.109.133, 185.199.110.133, ...\n",
      "Connecting to raw.githubusercontent.com (raw.githubusercontent.com)|185.199.108.133|:443... connected.\n",
      "HTTP request sent, awaiting response... 200 OK\n",
      "Length: 812060 (793K) [application/octet-stream]\n",
      "Saving to: 'BSDS500.tar.xz.1'\n",
      "\n",
      "     0K .......... .......... .......... .......... ..........  6% 1.73M 0s\n",
      "    50K .......... .......... .......... .......... .......... 12% 2.34M 0s\n",
      "   100K .......... .......... .......... .......... .......... 18% 3.73M 0s\n",
      "   150K .......... .......... .......... .......... .......... 25% 2.43M 0s\n",
      "   200K .......... .......... .......... .......... .......... 31% 53.2M 0s\n",
      "   250K .......... .......... .......... .......... .......... 37%  808K 0s\n",
      "   300K .......... .......... .......... .......... .......... 44% 4.66M 0s\n",
      "   350K .......... .......... .......... .......... .......... 50% 6.21M 0s\n",
      "   400K .......... .......... .......... .......... .......... 56% 28.8M 0s\n",
      "   450K .......... .......... .......... .......... .......... 63% 6.92M 0s\n",
      "   500K .......... .......... .......... .......... .......... 69% 43.4M 0s\n",
      "   550K .......... .......... .......... .......... .......... 75% 1.53M 0s\n",
      "   600K .......... .......... .......... .......... .......... 81% 43.2M 0s\n",
      "   650K .......... .......... .......... .......... .......... 88% 4.85M 0s\n",
      "   700K .......... .......... .......... .......... .......... 94% 51.3M 0s\n",
      "   750K .......... .......... .......... .......... ...       100% 10.9M=0.2s\n",
      "\n",
      "2024-01-15 20:47:01 (3.50 MB/s) - 'BSDS500.tar.xz.1' saved [812060/812060]\n",
      "\n",
      "x BSDS500/\n",
      "x BSDS500/CannyBaseline/\n",
      "x BSDS500/CannyBaseline/1.png\n",
      "x BSDS500/CannyBaseline/10.png\n",
      "x BSDS500/CannyBaseline/2.png\n",
      "x BSDS500/CannyBaseline/3.png\n",
      "x BSDS500/CannyBaseline/4.png\n",
      "x BSDS500/CannyBaseline/5.png\n",
      "x BSDS500/CannyBaseline/6.png\n",
      "x BSDS500/CannyBaseline/7.png\n",
      "x BSDS500/CannyBaseline/8.png\n",
      "x BSDS500/CannyBaseline/9.png\n",
      "x BSDS500/GroundTruth/\n",
      "x BSDS500/GroundTruth/1.png\n",
      "x BSDS500/GroundTruth/10.png\n",
      "x BSDS500/GroundTruth/2.png\n",
      "x BSDS500/GroundTruth/3.png\n",
      "x BSDS500/GroundTruth/4.png\n",
      "x BSDS500/GroundTruth/5.png\n",
      "x BSDS500/GroundTruth/6.png\n",
      "x BSDS500/GroundTruth/7.png\n",
      "x BSDS500/GroundTruth/8.png\n",
      "x BSDS500/GroundTruth/9.png\n",
      "x BSDS500/Images/\n",
      "x BSDS500/Images/1.jpg\n",
      "x BSDS500/Images/10.jpg\n",
      "x BSDS500/Images/2.jpg\n",
      "x BSDS500/Images/3.jpg\n",
      "x BSDS500/Images/4.jpg\n",
      "x BSDS500/Images/5.jpg\n",
      "x BSDS500/Images/6.jpg\n",
      "x BSDS500/Images/7.jpg\n",
      "x BSDS500/Images/8.jpg\n",
      "x BSDS500/Images/9.jpg\n",
      "x BSDS500/SobelBaseline/\n",
      "x BSDS500/SobelBaseline/1.png\n",
      "x BSDS500/SobelBaseline/10.png\n",
      "x BSDS500/SobelBaseline/2.png\n",
      "x BSDS500/SobelBaseline/3.png\n",
      "x BSDS500/SobelBaseline/4.png\n",
      "x BSDS500/SobelBaseline/5.png\n",
      "x BSDS500/SobelBaseline/6.png\n",
      "x BSDS500/SobelBaseline/7.png\n",
      "x BSDS500/SobelBaseline/8.png\n",
      "x BSDS500/SobelBaseline/9.png\n",
      "The system cannot find the file specified.\n"
     ]
    }
   ],
   "source": [
    "!wget https://raw.githubusercontent.com/leelening/rbe549/main/hw0/BSDS500.tar.xz\n",
    "!tar -xvf BSDS500.tar.xz\n",
    "!move BSDS500/ /content/data/"
   ]
  },
  {
   "cell_type": "code",
   "execution_count": 2,
   "metadata": {
    "id": "6FH307bN0MDt"
   },
   "outputs": [
    {
     "name": "stderr",
     "output_type": "stream",
     "text": [
      "--2024-01-13 10:47:15--  https://raw.githubusercontent.com/leelening/rbe549/main/hw0/TxtFiles.tar.xz\n",
      "Resolving raw.githubusercontent.com (raw.githubusercontent.com)... 185.199.111.133, 185.199.108.133, 185.199.109.133, ...\n",
      "Connecting to raw.githubusercontent.com (raw.githubusercontent.com)|185.199.111.133|:443... connected.\n",
      "HTTP request sent, awaiting response... 200 OK\n",
      "Length: 55376 (54K) [application/octet-stream]\n",
      "Saving to: 'TxtFiles.tar.xz.1'\n",
      "\n",
      "     0K .......... .......... .......... .......... .......... 92% 1.65M 0s\n",
      "    50K ....                                                  100% 5.23M=0.03s\n",
      "\n",
      "2024-01-13 10:47:15 (1.74 MB/s) - 'TxtFiles.tar.xz.1' saved [55376/55376]\n",
      "\n",
      "x TxtFiles/\n",
      "x TxtFiles/DirNamesTest.txt\n",
      "x TxtFiles/DirNamesTrain.txt\n",
      "x TxtFiles/LabelsTest.txt\n",
      "x TxtFiles/LabelsTrain.txt\n",
      "The system cannot find the file specified.\n"
     ]
    }
   ],
   "source": [
    "!wget https://raw.githubusercontent.com/leelening/rbe549/main/hw0/TxtFiles.tar.xz\n",
    "!tar -xvf TxtFiles.tar.xz\n",
    "!move TxtFiles/ /content/data/"
   ]
  },
  {
   "cell_type": "code",
   "execution_count": 106,
   "metadata": {
    "id": "lak3Alk44zj1"
   },
   "outputs": [],
   "source": [
    "import numpy as np\n",
    "import cv2\n",
    "import matplotlib.pyplot as plt\n",
    "import imutils\n",
    "import glob\n",
    "from sklearn.cluster import KMeans\n"
   ]
  },
  {
   "cell_type": "markdown",
   "metadata": {
    "id": "mN-AX2a04zj2"
   },
   "source": [
    "1. Generate Difference of Gaussian Filter Bank: (DoG)\n",
    "2. Display all the filters in this filter bank and save image as DoG.png,\n",
    "3. use command \"cv2.imwrite(...)\""
   ]
  },
  {
   "cell_type": "code",
   "execution_count": 107,
   "metadata": {
    "id": "UEpnMgO64zj3"
   },
   "outputs": [
    {
     "data": {
      "image/png": "[encoded data removed]",
      "text/plain": [
       "<Figure size 640x480 with 32 Axes>"
      ]
     },
     "metadata": {},
     "output_type": "display_data"
    }
   ],
   "source": [
    "size = 7\n",
    "num_orientations = 16\n",
    "scale = np.power([1, 2], 0.5)\n",
    "\n",
    "def convolve(image, kernel, width, height):\n",
    "    output = np.zeros_like(image)\n",
    "    image_temp = np.pad(image, ((1,1),(1,1)), 'constant') #depends on mask, for larger masks more padding\n",
    "    for i in range(height):\n",
    "        for j in range(width):\n",
    "            output[i][j] = np.sum(image_temp[i:i+len(kernel), j:j+len(kernel)] * kernel)\n",
    "    \n",
    "    return output\n",
    "\n",
    "sobel_x = [[-1, 0, 1],[-2, 0, 2], [-1, 0, 1]]\n",
    "sobel_y = [[-1, -2, -1], [0, 0, 0], [1, 2, 1]]\n",
    "\n",
    "x, y = np.meshgrid(np.linspace(-(size - 1)/2, (size - 1)/2, size), np.linspace(-(size - 1)/2, (size - 1)/2, size))\n",
    "DoG_filter_bank = []\n",
    "\n",
    "for s in scale:\n",
    "    gaussian_x = np.exp(-0.5*np.square(x)/np.square(s))/(np.sqrt(np.pi*2)*s)\n",
    "    gaussian_y = np.exp(-0.5*np.square(y)/np.square(s))/(np.sqrt(np.pi*2)*s)\n",
    "    gaussian2d = gaussian_x * gaussian_y\n",
    "\n",
    "    gx = convolve(gaussian2d, sobel_x, size, size)\n",
    "    gy = convolve(gaussian2d, sobel_y, size, size)\n",
    "\n",
    "    for o in range(num_orientations):\n",
    "        theta = o * 2 * np.pi / num_orientations\n",
    "        filter = gx * np.cos(theta) + gy * np.sin(theta)\n",
    "        DoG_filter_bank.append(filter)\n",
    "\n",
    "for i in range(len(DoG_filter_bank)):\n",
    "    plt.subplot(16,4,i+1)\n",
    "    plt.axis('off')\n",
    "    plt.imshow(DoG_filter_bank[i], cmap='gray') "
   ]
  },
  {
   "cell_type": "markdown",
   "metadata": {
    "id": "W9sMEggi4zj3"
   },
   "source": [
    "\n",
    "1. Generate Leung-Malik Filter Bank: (LM)\n",
    "2. Display all the filters in this filter bank and save image as LM.png,\n",
    "3. use command \"cv2.imwrite(...)\"\n"
   ]
  },
  {
   "cell_type": "code",
   "execution_count": 108,
   "metadata": {
    "id": "K_ihdTUc4zj3"
   },
   "outputs": [
    {
     "data": {
      "image/png": "[encoded data removed]",
      "text/plain": [
       "<Figure size 640x480 with 48 Axes>"
      ]
     },
     "metadata": {},
     "output_type": "display_data"
    }
   ],
   "source": [
    "LM_filter_bank = []\n",
    "LMS_filter_bank = []\n",
    "LML_filter_bank = []\n",
    "size = 24\n",
    "num_orientations = 6\n",
    "scale = [1, 2**0.5, 2, 8**0.5]\n",
    "# scale = np.power([1, 2, 4, 8], 0.5)\n",
    "\n",
    "#create generate gaussian function\n",
    "\n",
    "x, y = np.meshgrid(np.linspace(-(size - 1)/2, (size - 1)/2, size), np.linspace(-(size - 1)/2, (size - 1)/2, size))\n",
    "    \n",
    "for s in scale[0:3]:\n",
    "    # dx = [-1, 0, 1]\n",
    "    # dx = [[0, 1, 0], [-1, 0, 1], [0, -1, 0]]\n",
    "    # dy = [[1, 2, 1], [0, 0, 0], [-1, -2, -1]]\n",
    "\n",
    "    gaussian_x = np.exp(-0.5*np.square(x)/np.square(s))/(np.sqrt(np.pi*2)*s)\n",
    "    gaussian_y = np.exp(-0.5*np.square(y)/np.square(3*s))/(np.sqrt(np.pi*2)*3*s)\n",
    "    gaussian2d = gaussian_x * gaussian_y\n",
    "\n",
    "    d_gaussian = -x/np.square(s) * gaussian2d \n",
    "    d2_gaussian = (np.square(x) - np.square(s))/np.power(s,4) * gaussian2d\n",
    "    \n",
    "    #first derivative filters\n",
    "    for o in range(num_orientations):\n",
    "        theta = o * 180 / num_orientations\n",
    "        filter = imutils.rotate(d_gaussian, theta)\n",
    "        LMS_filter_bank.append(filter)\n",
    "\n",
    "    #second derivative filters\n",
    "    for o in range(num_orientations):\n",
    "        theta = o * 360 / num_orientations\n",
    "        filter = imutils.rotate(d2_gaussian, theta)\n",
    "        LMS_filter_bank.append(filter)\n",
    "\n",
    "scale_new = scale\n",
    "scale_new[5:8] = [3*i for i in scale]\n",
    "\n",
    "for s in scale:\n",
    "\n",
    "    gaussian_x = np.exp(-0.5*np.square(x)/np.square(s))/(np.sqrt(np.pi*2)*s)\n",
    "    gaussian_y = np.exp(-0.5*np.square(y)/np.square(s))/(np.sqrt(np.pi*2)*s)\n",
    "    gaussian2d = gaussian_x * gaussian_y\n",
    "    log = (np.square(x) + np.square(y) - 2*np.square(s))/np.power(s,4) * gaussian2d\n",
    "    \n",
    "    LMS_filter_bank.append(log)\n",
    "\n",
    "for s in scale[0:4]:\n",
    "    gaussian_x = np.exp(-0.5*np.square(x)/np.square(s))/(np.sqrt(np.pi*2)*s)\n",
    "    gaussian_y = np.exp(-0.5*np.square(y)/np.square(s))/(np.sqrt(np.pi*2)*s)\n",
    "    gaussian2d = gaussian_x * gaussian_y\n",
    "    LMS_filter_bank.append(gaussian2d)\n",
    "\n",
    "for i in range(len(LMS_filter_bank)):\n",
    "    plt.subplot(4,12,i+1)\n",
    "    plt.axis('off')\n",
    "    plt.imshow(LMS_filter_bank[i], cmap='gray') "
   ]
  },
  {
   "cell_type": "code",
   "execution_count": 109,
   "metadata": {},
   "outputs": [
    {
     "data": {
      "image/png": "[encoded data removed]",
      "text/plain": [
       "<Figure size 640x480 with 48 Axes>"
      ]
     },
     "metadata": {},
     "output_type": "display_data"
    }
   ],
   "source": [
    "\n",
    "scale = [2**0.5, 2, 8**0.5, 4]\n",
    "\n",
    "for s in scale[0:3]:\n",
    "    # dx = [-1, 0, 1]\n",
    "    # dx = [[0, 1, 0], [-1, 0, 1], [0, -1, 0]]\n",
    "    # dy = [[1, 2, 1], [0, 0, 0], [-1, -2, -1]]\n",
    "\n",
    "    gaussian_x = np.exp(-0.5*np.square(x)/np.square(s))/(np.sqrt(np.pi*2)*s)\n",
    "    gaussian_y = np.exp(-0.5*np.square(y)/np.square(3*s))/(np.sqrt(np.pi*2)*3*s)\n",
    "    gaussian2d = gaussian_x * gaussian_y\n",
    "\n",
    "    d_gaussian = -x/np.square(s) * gaussian2d \n",
    "    d2_gaussian = (np.square(x) - np.square(s))/np.power(s,4) * gaussian2d\n",
    "    \n",
    "    #first derivative filters\n",
    "    for o in range(num_orientations):\n",
    "        theta = o * 180 / num_orientations\n",
    "        filter = imutils.rotate(d_gaussian, theta)\n",
    "        LML_filter_bank.append(filter)\n",
    "\n",
    "    #second derivative filters\n",
    "    for o in range(num_orientations):\n",
    "        theta = o * 360 / num_orientations\n",
    "        filter = imutils.rotate(d2_gaussian, theta)\n",
    "        LML_filter_bank.append(filter)\n",
    "\n",
    "scale_new = scale\n",
    "scale_new[5:8] = [3*i for i in scale]\n",
    "\n",
    "for s in scale:\n",
    "\n",
    "    gaussian_x = np.exp(-0.5*np.square(x)/np.square(s))/(np.sqrt(np.pi*2)*s)\n",
    "    gaussian_y = np.exp(-0.5*np.square(y)/np.square(s))/(np.sqrt(np.pi*2)*s)\n",
    "    gaussian2d = gaussian_x * gaussian_y\n",
    "    log = (np.square(x) + np.square(y) - 2*np.square(s))/np.power(s,4) * gaussian2d\n",
    "    \n",
    "    LML_filter_bank.append(log)\n",
    "\n",
    "for s in scale[0:4]:\n",
    "    gaussian_x = np.exp(-0.5*np.square(x)/np.square(s))/(np.sqrt(np.pi*2)*s)\n",
    "    gaussian_y = np.exp(-0.5*np.square(y)/np.square(s))/(np.sqrt(np.pi*2)*s)\n",
    "    gaussian2d = gaussian_x * gaussian_y\n",
    "    LML_filter_bank.append(gaussian2d)\n",
    "\n",
    "for i in range(len(LML_filter_bank)):\n",
    "    plt.subplot(4,12,i+1)\n",
    "    plt.axis('off')\n",
    "    plt.imshow(LML_filter_bank[i], cmap='gray') \n",
    "\n",
    "LM_filter_bank = LMS_filter_bank + LML_filter_bank"
   ]
  },
  {
   "cell_type": "markdown",
   "metadata": {
    "id": "iWPCb37t4zj3"
   },
   "source": [
    "1. Generate Gabor Filter Bank: (Gabor)\n",
    "2. Display all the filters in this filter bank and save image as Gabor.png,\n",
    "3. use command \"cv2.imwrite(...)\"\n"
   ]
  },
  {
   "cell_type": "code",
   "execution_count": 110,
   "metadata": {
    "id": "N3RUEhBJ4zj4"
   },
   "outputs": [
    {
     "data": {
      "image/png": "[encoded data removed]",
      "text/plain": [
       "<Figure size 640x480 with 24 Axes>"
      ]
     },
     "metadata": {},
     "output_type": "display_data"
    }
   ],
   "source": [
    "Gabor_filter_bank = []\n",
    "size = 24\n",
    "scale = np.power([8, 12, 16, 20], 0.5)\n",
    "num_orientations = 6\n",
    "\n",
    "x, y = np.meshgrid(np.linspace(-(size - 1)/2, (size - 1)/2, size), np.linspace(-(size - 1)/2, (size - 1)/2, size))\n",
    "lambda_ = 4\n",
    "for s in scale:\n",
    "    \n",
    "    for o in range(num_orientations):\n",
    "        theta = o * 360 / num_orientations\n",
    "        rad = theta * np.pi/180\n",
    "        x_p = x * np.sin(rad) + y * np.cos(rad)\n",
    "        y_p = x * np.cos(rad) - y * np.sin(rad)\n",
    "        gaussian_x = np.exp(-0.5*np.square(x_p)/np.square(s))/(np.sqrt(np.pi*2)*s)\n",
    "        gaussian_y = np.exp(-0.5*np.square(y_p)/np.square(s))/(np.sqrt(np.pi*2)*s)\n",
    "        gaussian2d = gaussian_x * gaussian_y\n",
    "        sinusoidal_mod = np.cos(2 * np.pi * x_p / lambda_)\n",
    "        filter = gaussian2d * sinusoidal_mod\n",
    "        Gabor_filter_bank.append(filter)\n",
    "    \n",
    "for i in range(len(Gabor_filter_bank)):\n",
    "    plt.subplot(4,6,i+1)\n",
    "    plt.axis('off')\n",
    "    plt.imshow(Gabor_filter_bank[i], cmap='gray') \n"
   ]
  },
  {
   "cell_type": "markdown",
   "metadata": {
    "id": "VhZSwN8W4zj4"
   },
   "source": [
    "1. Generate Half-disk masks\n",
    "2. Display all the Half-disk masks and save image as HDMasks.png,\n",
    "3. use command \"cv2.imwrite(...)\""
   ]
  },
  {
   "cell_type": "code",
   "execution_count": 111,
   "metadata": {
    "id": "H43aTHdD4zj4"
   },
   "outputs": [
    {
     "data": {
      "image/png": "[encoded data removed]",
      "text/plain": [
       "<Figure size 640x480 with 48 Axes>"
      ]
     },
     "metadata": {},
     "output_type": "display_data"
    }
   ],
   "source": [
    "half_disk_masks = []\n",
    "scale = np.multiply([1 , 2 ,5],4)\n",
    "num_orientations = 8\n",
    "\n",
    "def populate_circle(radius):\n",
    "    filter = np.zeros([2 * radius, 2 * radius]) \n",
    "    for i in range(2 * radius): \n",
    "        for j in range(radius): #populating the area within the half circle with 1, not the full\n",
    "            if np.power(i - radius, 2) + np.power(j - radius, 2) <= np.power(radius,2):\n",
    "                filter[i][j] = 1\n",
    "    return filter\n",
    "\n",
    "for s in scale:\n",
    "    half_disk = populate_circle(s)\n",
    "    for o in range(num_orientations):\n",
    "        half_theta =  o * 180 / num_orientations\n",
    "        half_disk_masks.append(imutils.rotate(half_disk, half_theta))\n",
    "        half_disk_masks.append(imutils.rotate(half_disk, half_theta + 180))\n",
    "\n",
    "for i in range(len(half_disk_masks)):\n",
    "    plt.subplot(3,16,i+1)\n",
    "    plt.axis('off')\n",
    "    plt.imshow(half_disk_masks[i], cmap='gray') \n",
    "    plt.imsave(\"Filters/HalfDisk_\"+ str(i+1)+\".jpg\", half_disk_masks[i])"
   ]
  },
  {
   "cell_type": "markdown",
   "metadata": {
    "id": "VsO2z2ub4zj5"
   },
   "source": [
    "1. Generate Texton Map\n",
    "2. Filter image using oriented gaussian filter bank\n"
   ]
  },
  {
   "cell_type": "code",
   "execution_count": 112,
   "metadata": {
    "id": "C-jtngqU4zj5"
   },
   "outputs": [],
   "source": [
    "\n",
    "filter_bank = DoG_filter_bank + LM_filter_bank + Gabor_filter_bank\n",
    "\n",
    "def generate_filter_response(image, filters):\n",
    "    filter_response_set = []\n",
    "    i = 0\n",
    "    for f in filters:\n",
    "        grayscale = cv2.cvtColor(image, cv2.COLOR_BGR2GRAY)\n",
    "        # filter_response = convolve(grayscale ,f, image.shape[0], image.shape[1])\n",
    "        filter_response = cv2.filter2D(grayscale, -1, f)\n",
    "        filter_response_set.append(filter_response)\n",
    "        i = i + 1\n",
    "\n",
    "    return filter_response_set\n",
    "\n",
    "image_set = []\n",
    "filepath = glob.glob(\"BSDS500/Images/*.jpg\")\n",
    "\n",
    "for i in filepath: #populating the image set for filtering\n",
    "    image = cv2.imread(i)\n",
    "    image_set.append(image)\n"
   ]
  },
  {
   "cell_type": "markdown",
   "metadata": {
    "id": "ifGTkHv84zj5"
   },
   "source": [
    "1. Generate texture ID's using K-means clustering\n",
    "2. Display texton map and save image as TextonMap_ImageName.png,\n",
    "3. use command \"cv2.imwrite('...)\"\n"
   ]
  },
  {
   "cell_type": "code",
   "execution_count": 113,
   "metadata": {
    "id": "Uhd-eznB4zj5"
   },
   "outputs": [],
   "source": [
    "count = 1\n",
    "texton_map = []\n",
    "\n",
    "for i in image_set:\n",
    "    \n",
    "    filter_response_set = generate_filter_response(i, filter_bank)    \n",
    "    filter_response_array = np.array(filter_response_set)\n",
    "    \n",
    "    set_size = filter_response_array.shape\n",
    "    mod_image = filter_response_array.reshape(set_size[0], set_size[1]*set_size[2])\n",
    "    mod_image = mod_image.transpose()\n",
    "\n",
    "    kms = KMeans(n_clusters = 64, n_init = 2)\n",
    "    kmcluster = kms.fit(mod_image)\n",
    "    labels = kmcluster.predict(mod_image)\n",
    "    tm = labels.reshape([set_size[1], set_size[2]])\n",
    "    \n",
    "    plt.imsave(\"Results/TextonMap_\"+ str(count)+\".png\", tm)\n",
    "    texton_map.append(tm)\n",
    "    count += 1"
   ]
  },
  {
   "cell_type": "markdown",
   "metadata": {
    "id": "KhkWsyiV4zj6"
   },
   "source": [
    "1. Generate Texton Gradient (Tg)\n",
    "2. Perform Chi-square calculation on Texton Map\n",
    "3. Display Tg and save image as Tg_ImageName.png,\n",
    "4. use command \"cv2.imwrite(...)\"\n"
   ]
  },
  {
   "cell_type": "code",
   "execution_count": 114,
   "metadata": {
    "id": "mXPbc8FE4zj6"
   },
   "outputs": [],
   "source": [
    "def calculate_chi_distance(texton_image, k):\n",
    "    \n",
    "    chi_distance = []\n",
    "    chi = np.zeros_like(texton_image)\n",
    "    \n",
    "    for i in range(0, len(half_disk_masks), 2):\n",
    "        \n",
    "        left = half_disk_masks[i]\n",
    "        right = half_disk_masks[i+1]\n",
    "        tmp = np.zeros_like(texton_image)\n",
    "        \n",
    "        for j in range(k):\n",
    "            \n",
    "            tmp = texton_image == j #wherever texton_id matches\n",
    "            tmp = np.float32(tmp)\n",
    "\n",
    "            g_j = cv2.filter2D(tmp, -1, left)\n",
    "            h_j = cv2.filter2D(tmp, -1, right)\n",
    "\n",
    "            chi = chi + 0.5 * ((g_j - h_j) ** 2)/(g_j + h_j + 0.01)\n",
    "        \n",
    "        chi_distance.append(chi)\n",
    "    \n",
    "    return chi_distance\n",
    "\n",
    "T_g = []\n",
    "count = 1\n",
    "for i in texton_map:\n",
    "\n",
    "    chi = calculate_chi_distance(i, 64)\n",
    "    chi_avg = np.mean(chi, axis = 0)\n",
    "    plt.imsave(\"Results/Tg_\" + str(count) + \".png\", chi_avg)\n",
    "    T_g.append(chi_avg)\n",
    "    count += 1\n"
   ]
  },
  {
   "cell_type": "markdown",
   "metadata": {
    "id": "8vrXv0ff4zj6"
   },
   "source": [
    "1. Generate Brightness Map\n",
    "2. Perform brightness binning\n"
   ]
  },
  {
   "cell_type": "code",
   "execution_count": 115,
   "metadata": {
    "id": "1_ND-sVC4zj6"
   },
   "outputs": [],
   "source": [
    "count = 1\n",
    "brightness_map = []\n",
    "for i in image_set:\n",
    "    grayscale = cv2.cvtColor(i, cv2.COLOR_BGR2GRAY)\n",
    "    grayscale_array = np.array(grayscale)\n",
    "    set_size = grayscale_array.shape\n",
    "\n",
    "    mod_image = grayscale_array.reshape(set_size[0]*set_size[1], 1)\n",
    "    \n",
    "    kms = KMeans(n_clusters = 16, n_init = 2)\n",
    "    kmcluster = kms.fit(mod_image)\n",
    "    labels = kmcluster.predict(mod_image)\n",
    "    bm = labels.reshape([set_size[0], set_size[1]])\n",
    "    \n",
    "    plt.imsave(\"Results/BrightMap_\"+ str(count)+\".png\", bm)\n",
    "    brightness_map.append(bm)\n",
    "    count += 1"
   ]
  },
  {
   "cell_type": "markdown",
   "metadata": {
    "id": "SKOitvW34zj6"
   },
   "source": [
    "1. Generate Brightness Gradient (Bg)\n",
    "2. Perform Chi-square calculation on Brightness Map\n",
    "3. Display Bg and save image as Bg_ImageName.png,\n",
    "4. use command \"cv2.imwrite(...)\"\n",
    "\n"
   ]
  },
  {
   "cell_type": "code",
   "execution_count": 116,
   "metadata": {
    "id": "hCOD81PA4zj7"
   },
   "outputs": [],
   "source": [
    "B_g = []\n",
    "count = 1\n",
    "for i in brightness_map:\n",
    "\n",
    "    chi = calculate_chi_distance(i, 16)\n",
    "    chi_avg = np.mean(chi, axis = 0)\n",
    "    plt.imsave(\"Results/Bg_\" + str(count) + \".png\", chi_avg)\n",
    "    B_g.append(chi_avg)\n",
    "    count += 1"
   ]
  },
  {
   "cell_type": "markdown",
   "metadata": {
    "id": "NHJXA-HM4zj7"
   },
   "source": [
    "1. Generate Color Map\n",
    "2. Perform color binning or clustering\n"
   ]
  },
  {
   "cell_type": "code",
   "execution_count": 117,
   "metadata": {
    "id": "0m2LGULC4zj7"
   },
   "outputs": [],
   "source": [
    "count = 1\n",
    "color_map = []\n",
    "for i in image_set:\n",
    "\n",
    "    color_array = np.array(i)\n",
    "    set_size = color_array.shape\n",
    "    mod_image = color_array.reshape(set_size[0]*set_size[1], set_size[2])\n",
    "    \n",
    "    kms = KMeans(n_clusters = 16, n_init = 2)\n",
    "    kmcluster = kms.fit(mod_image)\n",
    "    labels = kmcluster.predict(mod_image)\n",
    "    \n",
    "    cm = labels.reshape([set_size[0], set_size[1]])\n",
    "    plt.imsave(\"Results/ColorMap_\"+ str(count)+\".png\", cm)\n",
    "    color_map.append(cm)\n",
    "    count += 1"
   ]
  },
  {
   "cell_type": "markdown",
   "metadata": {
    "id": "SO27XPii4zj7"
   },
   "source": [
    "\n",
    "\n",
    "\n",
    "1. Generate Color Gradient (Cg)\n",
    "2. Perform Chi-square calculation on Color Map\n",
    "3. Display Cg and save image as Cg_ImageName.png,\n",
    "4. use command \"cv2.imwrite(...)\"\n",
    "\n"
   ]
  },
  {
   "cell_type": "code",
   "execution_count": 118,
   "metadata": {
    "id": "t_BnNy7s4zj7"
   },
   "outputs": [],
   "source": [
    "C_g = []\n",
    "count = 1\n",
    "for i in color_map:\n",
    "\n",
    "    chi = calculate_chi_distance(i, 16)\n",
    "    chi_avg = np.mean(chi, axis = 0)\n",
    "    plt.imsave(\"Results/Cg_\" + str(count) + \".png\", chi_avg)\n",
    "    C_g.append(chi_avg)\n",
    "    count += 1"
   ]
  },
  {
   "cell_type": "markdown",
   "metadata": {
    "id": "nmy__th24zj7"
   },
   "source": [
    "\n",
    "1. Read Sobel Baseline\n",
    "2. use command \"cv2.imread(...)\"\n"
   ]
  },
  {
   "cell_type": "code",
   "execution_count": 119,
   "metadata": {
    "id": "vapObHsb4zj7"
   },
   "outputs": [],
   "source": [
    "sobel_baseline =[]\n",
    "filepath = glob.glob(\"BSDS500/SobelBaseline/*.png\")\n",
    "\n",
    "for i in filepath:\n",
    "\n",
    "    image = cv2.imread(i)\n",
    "    sobel_baseline.append(image)"
   ]
  },
  {
   "cell_type": "markdown",
   "metadata": {
    "id": "nMm0qhf-4zj8"
   },
   "source": [
    "\n",
    "\n",
    "\n",
    "1. Read Canny Baseline\n",
    "2. use command \"cv2.imread(...)\"\n",
    "\n"
   ]
  },
  {
   "cell_type": "code",
   "execution_count": 120,
   "metadata": {
    "id": "9ZcgUAqK4zj8"
   },
   "outputs": [],
   "source": [
    "canny_baseline =[]\n",
    "filepath = glob.glob(\"BSDS500/CannyBaseline/*.png\")\n",
    "\n",
    "for i in filepath:\n",
    "\n",
    "    image = cv2.imread(i)\n",
    "    canny_baseline.append(image)"
   ]
  },
  {
   "cell_type": "markdown",
   "metadata": {
    "id": "Y1Ut3_c74zj8"
   },
   "source": [
    "\n",
    "\n",
    "1. Combine responses to get pb-lite output\n",
    "2. Display PbLite and save image as PbLite_ImageName.png\n",
    "3. use command \"cv2.imwrite(...)\"\n",
    "\n"
   ]
  },
  {
   "cell_type": "code",
   "execution_count": 121,
   "metadata": {
    "id": "TpC2Z26r4zj8"
   },
   "outputs": [
    {
     "data": {
      "image/png": "[encoded data removed]",
      "text/plain": [
       "<Figure size 640x480 with 1 Axes>"
      ]
     },
     "metadata": {},
     "output_type": "display_data"
    }
   ],
   "source": [
    "count = 0\n",
    "w1 = 0.5\n",
    "w2 = 0.5\n",
    "pb_baseline = []\n",
    "for i in image_set:\n",
    "\n",
    "    pb = (T_g[count] + B_g[count]+ C_g[count])/3\n",
    "    canny_img = cv2.cvtColor(canny_baseline[count], cv2.COLOR_BGR2GRAY)\n",
    "    sobel_img = cv2.cvtColor(sobel_baseline[count], cv2.COLOR_BGR2GRAY)\n",
    "\n",
    "    pb = pb * (w1 * canny_img + w2 * sobel_img)\n",
    "    pb_baseline.append(pb)\n",
    "    \n",
    "    plt.imsave(\"Results/PbLite_\"+ str(count+1)+\".png\", pb, cmap='gray')\n",
    "    plt.imshow(pb_baseline[0], cmap='gray')\n",
    "    count += 1\n",
    "    "
   ]
  },
  {
   "cell_type": "markdown",
   "metadata": {
    "id": "e2aeH7uq8qR7"
   },
   "source": [
    "## Phase 2"
   ]
  },
  {
   "cell_type": "markdown",
   "metadata": {
    "id": "-4iWkcHsItB0"
   },
   "source": [
    "### Neural Network Construction"
   ]
  },
  {
   "cell_type": "code",
   "execution_count": 11,
   "metadata": {
    "id": "jGCHa0pfIss-"
   },
   "outputs": [],
   "source": [
    "import torch.nn as nn\n",
    "import torch.nn.functional as F\n",
    "import numpy as np\n",
    "\n",
    "def accuracy(outputs, labels):\n",
    "    _, preds = torch.max(outputs, dim=1)\n",
    "    return torch.tensor(torch.sum(preds == labels).item() / len(preds))\n",
    "\n",
    "def loss_fn(out, labels):\n",
    "    ###############################################\n",
    "    # Fill your loss function of choice here!\n",
    "    ###############################################\n",
    "    loss = nn.CrossEntropyLoss()(out, labels)\n",
    "    return loss\n",
    "\n",
    "class ImageClassificationBase(nn.Module):\n",
    "    def training_step(self, batch, Writer):\n",
    "        images, labels = batch\n",
    "        out = self(images)                  # Generate predictions\n",
    "        loss = loss_fn(out, labels) # Calculate loss\n",
    "        Writer.add_graph(self, images)\n",
    "        return loss\n",
    "\n",
    "    def validation_step(self, batch):\n",
    "        images, labels = batch\n",
    "        out = self(images)                    # Generate predictions\n",
    "        loss = loss_fn(out, labels)   # Calculate loss\n",
    "        acc = accuracy(out, labels)           # Calculate accuracy\n",
    "        return {'loss': loss.detach(), 'acc': acc}\n",
    "\n",
    "    def validation_epoch_end(self, outputs):\n",
    "        batch_losses = [x['loss'] for x in outputs]\n",
    "        epoch_loss = torch.stack(batch_losses).mean()   # Combine losses\n",
    "        batch_accs = [x['acc'] for x in outputs]\n",
    "        epoch_acc = torch.stack(batch_accs).mean()      # Combine accuracies\n",
    "        return {'loss': epoch_loss.item(), 'acc': epoch_acc.item()}\n",
    "\n",
    "    def epoch_end(self, epoch, result):\n",
    "        print(\"Epoch [{}], loss: {:.4f}, acc: {:.4f}\".format(epoch, result['loss'], result['acc']))\n",
    "\n",
    "\n",
    "\n",
    "class CIFAR10Model(ImageClassificationBase):\n",
    "  def __init__(self, InputSize, OutputSize):\n",
    "      \"\"\"\n",
    "      Inputs:\n",
    "      InputSize - Size of the Input\n",
    "      OutputSize - Size of the Output\n",
    "      \"\"\"\n",
    "      #############################\n",
    "      # Fill your network initialization of choice here!\n",
    "      #############################\n",
    "\n",
    "      super().__init__()\n",
    "      self.cn1 = nn.Conv2d(3, 10, 3,padding=1, stride=1)\n",
    "      self.mp = nn.MaxPool2d(2, 2)\n",
    "      self.cn2 = nn.Conv2d(10, 20, 3,padding=1, stride=1)\n",
    "      self.fc1 = nn.Linear(1280, 128)\n",
    "      self.fc2 = nn.Linear(128, 64)\n",
    "      self.fc3 = nn.Linear(64, 10)\n",
    "\n",
    "  def forward(self, xb):\n",
    "      \"\"\"\n",
    "      Input:\n",
    "      xb is a MiniBatch of the current image\n",
    "      Outputs:\n",
    "      out - output of the network\n",
    "      \"\"\"\n",
    "      #############################\n",
    "      # Fill your network structure of choice here!\n",
    "      #############################\n",
    "\n",
    "      out = self.mp(F.relu(self.cn1(xb)))\n",
    "      out = self.mp(F.relu(self.cn2(out)))\n",
    "      out = out.view(-1, 1280) #reshaping\n",
    "      out = F.relu(self.fc1(out))\n",
    "      out = F.relu(self.fc2(out))\n",
    "      out = F.relu(self.fc3(out))\n",
    "\n",
    "      return out\n",
    "\n",
    "class CIFAR10Model2(ImageClassificationBase):\n",
    "  def __init__(self, InputSize, OutputSize):\n",
    "      \"\"\"\n",
    "      Inputs:\n",
    "      InputSize - Size of the Input\n",
    "      OutputSize - Size of the Output\n",
    "      \"\"\"\n",
    "      #############################\n",
    "      # Fill your network initialization of choice here!\n",
    "      #############################\n",
    "\n",
    "      super().__init__()\n",
    "      self.cn1 = nn.Conv2d(3, 10, 3, padding=1)\n",
    "      self.cn1_bn = nn.BatchNorm2d(10)\n",
    "      self.mp = nn.MaxPool2d(2, 2)\n",
    "      self.cn2 = nn.Conv2d(10, 20, 3, padding=1)\n",
    "      self.cn2_bn = nn.BatchNorm2d(20)\n",
    "      self.fc1 = nn.Linear(1280, 128)\n",
    "      self.fc2 = nn.Linear(128, 64)\n",
    "      self.fc2_bn = nn.BatchNorm1d(64)\n",
    "      self.fc3 = nn.Linear(64, 10)\n",
    "\n",
    "  def forward(self, xb):\n",
    "      \"\"\"\n",
    "      Input:\n",
    "      xb is a MiniBatch of the current image\n",
    "      Outputs:\n",
    "      out - output of the network\n",
    "      \"\"\"\n",
    "      #############################\n",
    "      # Fill your network structure of choice here!\n",
    "      #############################\n",
    "\n",
    "      out = self.cn1_bn(self.cn1(xb))\n",
    "      out = self.mp(F.relu(out))\n",
    "      out = self.mp(F.relu(self.cn2(out)))\n",
    "      out = out.view(-1, 1280) #reshaping\n",
    "\n",
    "      out = F.relu(self.fc1(out))\n",
    "      out = F.relu(self.fc2_bn(self.fc2(out)))\n",
    "      out = F.relu(self.fc3(out))\n",
    "\n",
    "      return out\n",
    "\n",
    "class ResNet(ImageClassificationBase):\n",
    "  def __init__(self, InputSize, OutputSize):\n",
    "      \"\"\"\n",
    "      Inputs:\n",
    "      InputSize - Size of the Input\n",
    "      OutputSize - Size of the Output\n",
    "      \"\"\"\n",
    "      #############################\n",
    "      # Fill your network initialization of choice here!\n",
    "      #############################\n",
    "      super().__init__()\n",
    "      self.idty = nn.Identity()\n",
    "      self.cn1 = nn.Conv2d(3, 16, 3, padding=1)\n",
    "      self.cn2 = nn.Conv2d(16, 16, 3, padding=1)\n",
    "      self.cn3 = nn.Conv2d(16, 16, 3, padding=1)\n",
    "      self.fc1 = nn.Linear(16384, 1024)\n",
    "      self.fc2 = nn.Linear(1024, 84)\n",
    "      self.fc3 = nn.Linear(84, 10)\n",
    "\n",
    "  def forward(self, xb):\n",
    "      \"\"\"\n",
    "      Input:\n",
    "      xb is a MiniBatch of the current image\n",
    "      Outputs:\n",
    "      out - output of the network\n",
    "      \"\"\"\n",
    "      #############################\n",
    "      # Fill your network structure of choice here!\n",
    "      #############################\n",
    "\n",
    "      out = F.relu(self.cn1(xb))\n",
    "      skip  = out\n",
    "      out = F.relu(self.cn3(self.cn2(out)))\n",
    "      out = out + self.idty(skip)\n",
    "      out = out.view(-1, 32*32*16)\n",
    "      out = F.sigmoid(self.fc1(out))\n",
    "      out = F.sigmoid(self.fc2(out))\n",
    "      out = F.softmax(self.fc3(out))\n",
    "      return out\n",
    "\n",
    "class ResNeXT(ImageClassificationBase):\n",
    "  def __init__(self, InputSize, OutputSize):\n",
    "      \"\"\"\n",
    "      Inputs:\n",
    "      InputSize - Size of the Input\n",
    "      OutputSize - Size of the Output\n",
    "      \"\"\"\n",
    "      #############################\n",
    "      # Fill your network initialization of choice here!\n",
    "      #############################\n",
    "      super().__init__()\n",
    "      self.idty = nn.Identity()\n",
    "      self.cn1 = nn.Conv2d(3, 10, 3, padding=1)\n",
    "      self.cn2 = nn.Conv2d(10, 5, 3, padding=1)\n",
    "      self.cn3 = nn.Conv2d(5, 5, 3, padding=1)\n",
    "      self.cn4 = nn.Conv2d(5, 10, 3, padding=1)\n",
    "      self.cn5 = nn.Conv2d(10, 10, 3, padding=1)\n",
    "      self.cn6 = nn.Conv2d(10, 20, 3, padding=1)\n",
    "      self.cn7 = nn.Conv2d(20, 10, 3, padding=1)\n",
    "      self.cn8 = nn.Conv2d(10, 20, 3, padding=1)\n",
    "      self.cn9 = nn.Conv2d(20, 40, 3, padding=1)\n",
    "      self.cn10 = nn.Conv2d(40, 40, 3, padding=1)\n",
    "      self.cn11 = nn.Conv2d(40, 20, 3, padding=1)\n",
    "      self.cn12 = nn.Conv2d(20, 10, 3, padding=1)\n",
    "      self.cn13 = nn.Conv2d(10, 5, 3, padding=1)\n",
    "      self.cn14 = nn.Conv2d(5, 20, 3, padding=1)\n",
    "      self.fc1 = nn.Linear(20480, 1024)\n",
    "      self.fc2 = nn.Linear(1024, 84)\n",
    "      self.fc3 = nn.Linear(84, 10)\n",
    "\n",
    "  def forward(self, xb):\n",
    "      \"\"\"\n",
    "      Input:\n",
    "      xb is a MiniBatch of the current image\n",
    "      Outputs:\n",
    "      out - output of the network\n",
    "      \"\"\"\n",
    "      #############################\n",
    "      # Fill your network structure of choice here!\n",
    "      #############################\n",
    "      out = F.relu(self.cn1(xb))\n",
    "      x  = out\n",
    "      out1 = F.relu(self.cn2(out))\n",
    "      out1 = F.relu(self.cn3(out1))\n",
    "      x1 = F.relu(self.cn4(out1))\n",
    "      out2 = F.relu(self.cn5(out))\n",
    "      out2 = F.relu(self.cn6(out2))\n",
    "      x2 = F.relu(self.cn7(out2))\n",
    "      out = self.idty(x) + x1 + x2\n",
    "\n",
    "      x  = F.relu(self.cn8(out))\n",
    "      out1 = F.relu(self.cn9(x))\n",
    "      out1 = F.relu(self.cn10(out1))\n",
    "      x1 = F.relu(self.cn11(out1))\n",
    "      out2 = F.relu(self.cn12(x))\n",
    "      out2 = F.relu(self.cn13(out2))\n",
    "      x2 = F.relu(self.cn14(out2))\n",
    "      out = self.idty(x) + x1 + x2\n",
    "\n",
    "      out = out.view(-1, 20480)\n",
    "      out = F.sigmoid(self.fc1(out))\n",
    "      out = F.sigmoid(self.fc2(out))\n",
    "      out = F.softmax(self.fc3(out))\n",
    "      return out\n",
    "\n",
    "class DenseNet(ImageClassificationBase):\n",
    "  def __init__(self, InputSize, OutputSize):\n",
    "      \"\"\"\n",
    "      Inputs:\n",
    "      InputSize - Size of the Input\n",
    "      OutputSize - Size of the Output\n",
    "      \"\"\"\n",
    "      #############################\n",
    "      # Fill your network initialization of choice here!\n",
    "      #############################\n",
    "      super().__init__()\n",
    "      self.idty = nn.Identity()\n",
    "      self.cn1 = nn.Conv2d(3, 10, 3, padding=1)\n",
    "      self.cn2 = nn.Conv2d(10, 10, 3, padding=1)\n",
    "      self.cn3 = nn.Conv2d(10, 10, 3, padding=1)\n",
    "      self.cn4 = nn.Conv2d(10, 20, 3, padding=1)\n",
    "      self.cn5 = nn.Conv2d(20, 20, 3, padding=1)\n",
    "      self.cn6 = nn.Conv2d(20, 20, 3, padding=1)\n",
    "      self.fc1 = nn.Linear(32*32*20, 1024)\n",
    "      self.fc2 = nn.Linear(1024, 84)\n",
    "      self.fc3 = nn.Linear(84, 10)\n",
    "\n",
    "  def forward(self, xb):\n",
    "      \"\"\"\n",
    "      Input:\n",
    "      xb is a MiniBatch of the current image\n",
    "      Outputs:\n",
    "      out - output of the network\n",
    "      \"\"\"\n",
    "      #############################\n",
    "      # Fill your network structure of choice here!\n",
    "      #############################\n",
    "      out = F.relu(self.cn1(xb))\n",
    "      x = out\n",
    "      x1 = F.relu(self.cn2(out))\n",
    "      out = self.idty(x) + x1\n",
    "      x2 = F.relu(self.cn3(out))\n",
    "      out = self.idty(x) + x1 + x2\n",
    "      x = F.relu(self.cn4(out))\n",
    "      x1 = F.relu(self.cn5(x))\n",
    "      out = self.idty(x) + x1\n",
    "      x2 = self.cn6(out)\n",
    "      out = self.idty(x) + x1 + x2\n",
    "      out = out + self.idty(x)\n",
    "      out = out.view(-1, 32*32*20)\n",
    "      out = F.sigmoid(self.fc1(out))\n",
    "      out = F.sigmoid(self.fc2(out))\n",
    "      out = F.softmax(self.fc3(out))\n",
    "      return out\n"
   ]
  },
  {
   "cell_type": "code",
   "execution_count": 12,
   "metadata": {
    "id": "2SPck2oRdL5j"
   },
   "outputs": [],
   "source": [
    "import time\n",
    "import glob\n",
    "import os\n",
    "import sys\n",
    "import matplotlib.pyplot as plt\n",
    "import numpy as np\n",
    "\n",
    "def tic():\n",
    "    \"\"\"\n",
    "    Function to start timer\n",
    "    Tries to mimic tic() toc() in MATLAB\n",
    "    \"\"\"\n",
    "    StartTime = time.time()\n",
    "    return StartTime\n",
    "\n",
    "def toc(StartTime):\n",
    "    \"\"\"\n",
    "    Function to stop timer\n",
    "    Tries to mimic tic() toc() in MATLAB\n",
    "    \"\"\"\n",
    "    return time.time() - StartTime\n",
    "\n",
    "def FindLatestModel(CheckPointPath):\n",
    "    \"\"\"\n",
    "    Finds Latest Model in CheckPointPath\n",
    "    Inputs:\n",
    "    CheckPointPath - Path where you have stored checkpoints\n",
    "    Outputs:\n",
    "    LatestFile - File Name of the latest checkpoint\n",
    "    \"\"\"\n",
    "    FileList = glob.glob(CheckPointPath + '*.ckpt.index') # * means all if need specific format then *.csv\n",
    "    LatestFile = max(FileList, key=os.path.getctime)\n",
    "    # Strip everything else except needed information\n",
    "    LatestFile = LatestFile.replace(CheckPointPath, '')\n",
    "    LatestFile = LatestFile.replace('.ckpt.index', '')\n",
    "    return LatestFile\n",
    "\n",
    "\n",
    "def convertToOneHot(vector, NumClasses):\n",
    "    \"\"\"\n",
    "    Inputs:\n",
    "    vector - vector of argmax indexes\n",
    "    NumClasses - Number of classes\n",
    "    \"\"\"\n",
    "    return np.equal.outer(vector, np.arange(NumClasses)).astype(np.float)"
   ]
  },
  {
   "cell_type": "markdown",
   "metadata": {
    "id": "A04kYJ_rJxEP"
   },
   "source": [
    "### Train your neural network"
   ]
  },
  {
   "cell_type": "code",
   "execution_count": 13,
   "metadata": {
    "id": "hcGOFRE2JueB"
   },
   "outputs": [
    {
     "name": "stdout",
     "output_type": "stream",
     "text": [
      "Files already downloaded and verified\n",
      "Number of Epochs Training will run for 25\n",
      "Factor of reduction in training data is 1.0\n",
      "Mini Batch Size 512\n",
      "Number of Training Images 50000\n",
      "New model initialized....\n"
     ]
    },
    {
     "data": {
      "application/vnd.jupyter.widget-view+json": {
       "model_id": "be14430929964b88bc6c70a137e720f2",
       "version_major": 2,
       "version_minor": 0
      },
      "text/plain": [
       "  0%|          | 0/25 [00:00<?, ?it/s]"
      ]
     },
     "metadata": {},
     "output_type": "display_data"
    },
    {
     "data": {
      "application/vnd.jupyter.widget-view+json": {
       "model_id": "4f83e3afed604108ab700be5e09a4654",
       "version_major": 2,
       "version_minor": 0
      },
      "text/plain": [
       "  0%|          | 0/97 [00:00<?, ?it/s]"
      ]
     },
     "metadata": {},
     "output_type": "display_data"
    },
    {
     "name": "stdout",
     "output_type": "stream",
     "text": [
      "\n",
      "/content/Checkpoints/0a0model.ckpt Model Saved...\n",
      "Epoch [0], loss: 2.3029, acc: 0.0996\n",
      "Epoch [1], loss: 2.3002, acc: 0.1328\n",
      "Epoch [2], loss: 2.2969, acc: 0.1387\n",
      "Epoch [3], loss: 2.3003, acc: 0.1113\n",
      "Epoch [4], loss: 2.3037, acc: 0.0918\n",
      "Epoch [5], loss: 2.3042, acc: 0.0781\n",
      "Epoch [6], loss: 2.3017, acc: 0.0898\n",
      "Epoch [7], loss: 2.2988, acc: 0.1621\n",
      "Epoch [8], loss: 2.2989, acc: 0.1133\n",
      "Epoch [9], loss: 2.2948, acc: 0.1133\n",
      "Epoch [10], loss: 2.2967, acc: 0.1055\n",
      "Epoch [11], loss: 2.2983, acc: 0.0918\n",
      "Epoch [12], loss: 2.2960, acc: 0.1367\n",
      "Epoch [13], loss: 2.2948, acc: 0.1660\n",
      "Epoch [14], loss: 2.2898, acc: 0.1914\n",
      "Epoch [15], loss: 2.2886, acc: 0.1660\n",
      "Epoch [16], loss: 2.2849, acc: 0.1523\n",
      "Epoch [17], loss: 2.2780, acc: 0.1523\n",
      "Epoch [18], loss: 2.2806, acc: 0.1426\n"
     ]
    },
    {
     "ename": "KeyboardInterrupt",
     "evalue": "",
     "output_type": "error",
     "traceback": [
      "\u001b[1;31m---------------------------------------------------------------------------\u001b[0m",
      "\u001b[1;31mKeyboardInterrupt\u001b[0m                         Traceback (most recent call last)",
      "Cell \u001b[1;32mIn[13], line 248\u001b[0m\n\u001b[0;32m    245\u001b[0m \u001b[38;5;66;03m# Pretty print stats\u001b[39;00m\n\u001b[0;32m    246\u001b[0m PrettyPrint(NumEpochs, DivTrain, MiniBatchSize, NumTrainSamples, LatestFile)\n\u001b[1;32m--> 248\u001b[0m \u001b[43mTrainOperation\u001b[49m\u001b[43m(\u001b[49m\u001b[43mTrainLabels\u001b[49m\u001b[43m,\u001b[49m\u001b[43m \u001b[49m\u001b[43mNumTrainSamples\u001b[49m\u001b[43m,\u001b[49m\u001b[43m \u001b[49m\u001b[43mImageSize\u001b[49m\u001b[43m,\u001b[49m\n\u001b[0;32m    249\u001b[0m \u001b[43m                \u001b[49m\u001b[43mNumEpochs\u001b[49m\u001b[43m,\u001b[49m\u001b[43m \u001b[49m\u001b[43mMiniBatchSize\u001b[49m\u001b[43m,\u001b[49m\u001b[43m \u001b[49m\u001b[43mSaveCheckPoint\u001b[49m\u001b[43m,\u001b[49m\u001b[43m \u001b[49m\u001b[43mCheckPointPath\u001b[49m\u001b[43m,\u001b[49m\n\u001b[0;32m    250\u001b[0m \u001b[43m                \u001b[49m\u001b[43mDivTrain\u001b[49m\u001b[43m,\u001b[49m\u001b[43m \u001b[49m\u001b[43mLatestFile\u001b[49m\u001b[43m,\u001b[49m\u001b[43m \u001b[49m\u001b[43mTrainSet\u001b[49m\u001b[43m,\u001b[49m\u001b[43m \u001b[49m\u001b[43mLogsPath\u001b[49m\u001b[43m)\u001b[49m\n",
      "Cell \u001b[1;32mIn[13], line 195\u001b[0m, in \u001b[0;36mTrainOperation\u001b[1;34m(TrainLabels, NumTrainSamples, ImageSize, NumEpochs, MiniBatchSize, SaveCheckPoint, CheckPointPath, DivTrain, LatestFile, TrainSet, LogsPath)\u001b[0m\n\u001b[0;32m    192\u001b[0m Batch \u001b[38;5;241m=\u001b[39m GenerateBatch(TrainSet, TrainLabels, ImageSize, MiniBatchSize)\n\u001b[0;32m    194\u001b[0m \u001b[38;5;66;03m# Predict output with forward pass\u001b[39;00m\n\u001b[1;32m--> 195\u001b[0m LossThisBatch \u001b[38;5;241m=\u001b[39m \u001b[43mmodel\u001b[49m\u001b[38;5;241;43m.\u001b[39;49m\u001b[43mtraining_step\u001b[49m\u001b[43m(\u001b[49m\u001b[43mBatch\u001b[49m\u001b[43m,\u001b[49m\u001b[43m \u001b[49m\u001b[43mWriter\u001b[49m\u001b[43m)\u001b[49m\n\u001b[0;32m    197\u001b[0m Optimizer\u001b[38;5;241m.\u001b[39mzero_grad()\n\u001b[0;32m    198\u001b[0m LossThisBatch\u001b[38;5;241m.\u001b[39mbackward()\n",
      "Cell \u001b[1;32mIn[11], line 21\u001b[0m, in \u001b[0;36mImageClassificationBase.training_step\u001b[1;34m(self, batch, Writer)\u001b[0m\n\u001b[0;32m     19\u001b[0m out \u001b[38;5;241m=\u001b[39m \u001b[38;5;28mself\u001b[39m(images)                  \u001b[38;5;66;03m# Generate predictions\u001b[39;00m\n\u001b[0;32m     20\u001b[0m loss \u001b[38;5;241m=\u001b[39m loss_fn(out, labels) \u001b[38;5;66;03m# Calculate loss\u001b[39;00m\n\u001b[1;32m---> 21\u001b[0m \u001b[43mWriter\u001b[49m\u001b[38;5;241;43m.\u001b[39;49m\u001b[43madd_graph\u001b[49m\u001b[43m(\u001b[49m\u001b[38;5;28;43mself\u001b[39;49m\u001b[43m,\u001b[49m\u001b[43m \u001b[49m\u001b[43mimages\u001b[49m\u001b[43m)\u001b[49m\n\u001b[0;32m     22\u001b[0m \u001b[38;5;28;01mreturn\u001b[39;00m loss\n",
      "File \u001b[1;32m~\\AppData\\Local\\Packages\\PythonSoftwareFoundation.Python.3.11_qbz5n2kfra8p0\\LocalCache\\local-packages\\Python311\\site-packages\\torch\\utils\\tensorboard\\writer.py:873\u001b[0m, in \u001b[0;36mSummaryWriter.add_graph\u001b[1;34m(self, model, input_to_model, verbose, use_strict_trace)\u001b[0m\n\u001b[0;32m    869\u001b[0m torch\u001b[38;5;241m.\u001b[39m_C\u001b[38;5;241m.\u001b[39m_log_api_usage_once(\u001b[38;5;124m\"\u001b[39m\u001b[38;5;124mtensorboard.logging.add_graph\u001b[39m\u001b[38;5;124m\"\u001b[39m)\n\u001b[0;32m    870\u001b[0m \u001b[38;5;28;01mif\u001b[39;00m \u001b[38;5;28mhasattr\u001b[39m(model, \u001b[38;5;124m\"\u001b[39m\u001b[38;5;124mforward\u001b[39m\u001b[38;5;124m\"\u001b[39m):\n\u001b[0;32m    871\u001b[0m     \u001b[38;5;66;03m# A valid PyTorch model should have a 'forward' method\u001b[39;00m\n\u001b[0;32m    872\u001b[0m     \u001b[38;5;28mself\u001b[39m\u001b[38;5;241m.\u001b[39m_get_file_writer()\u001b[38;5;241m.\u001b[39madd_graph(\n\u001b[1;32m--> 873\u001b[0m         \u001b[43mgraph\u001b[49m\u001b[43m(\u001b[49m\u001b[43mmodel\u001b[49m\u001b[43m,\u001b[49m\u001b[43m \u001b[49m\u001b[43minput_to_model\u001b[49m\u001b[43m,\u001b[49m\u001b[43m \u001b[49m\u001b[43mverbose\u001b[49m\u001b[43m,\u001b[49m\u001b[43m \u001b[49m\u001b[43muse_strict_trace\u001b[49m\u001b[43m)\u001b[49m\n\u001b[0;32m    874\u001b[0m     )\n\u001b[0;32m    875\u001b[0m \u001b[38;5;28;01melse\u001b[39;00m:\n\u001b[0;32m    876\u001b[0m     \u001b[38;5;66;03m# Caffe2 models do not have the 'forward' method\u001b[39;00m\n\u001b[0;32m    877\u001b[0m     \u001b[38;5;28;01mfrom\u001b[39;00m \u001b[38;5;21;01mcaffe2\u001b[39;00m\u001b[38;5;21;01m.\u001b[39;00m\u001b[38;5;21;01mproto\u001b[39;00m \u001b[38;5;28;01mimport\u001b[39;00m caffe2_pb2\n",
      "File \u001b[1;32m~\\AppData\\Local\\Packages\\PythonSoftwareFoundation.Python.3.11_qbz5n2kfra8p0\\LocalCache\\local-packages\\Python311\\site-packages\\torch\\utils\\tensorboard\\_pytorch_graph.py:335\u001b[0m, in \u001b[0;36mgraph\u001b[1;34m(model, args, verbose, use_strict_trace)\u001b[0m\n\u001b[0;32m    333\u001b[0m \u001b[38;5;28;01mwith\u001b[39;00m _set_model_to_eval(model):\n\u001b[0;32m    334\u001b[0m     \u001b[38;5;28;01mtry\u001b[39;00m:\n\u001b[1;32m--> 335\u001b[0m         trace \u001b[38;5;241m=\u001b[39m \u001b[43mtorch\u001b[49m\u001b[38;5;241;43m.\u001b[39;49m\u001b[43mjit\u001b[49m\u001b[38;5;241;43m.\u001b[39;49m\u001b[43mtrace\u001b[49m\u001b[43m(\u001b[49m\u001b[43mmodel\u001b[49m\u001b[43m,\u001b[49m\u001b[43m \u001b[49m\u001b[43margs\u001b[49m\u001b[43m,\u001b[49m\u001b[43m \u001b[49m\u001b[43mstrict\u001b[49m\u001b[38;5;241;43m=\u001b[39;49m\u001b[43muse_strict_trace\u001b[49m\u001b[43m)\u001b[49m\n\u001b[0;32m    336\u001b[0m         graph \u001b[38;5;241m=\u001b[39m trace\u001b[38;5;241m.\u001b[39mgraph\n\u001b[0;32m    337\u001b[0m         torch\u001b[38;5;241m.\u001b[39m_C\u001b[38;5;241m.\u001b[39m_jit_pass_inline(graph)\n",
      "File \u001b[1;32m~\\AppData\\Local\\Packages\\PythonSoftwareFoundation.Python.3.11_qbz5n2kfra8p0\\LocalCache\\local-packages\\Python311\\site-packages\\torch\\jit\\_trace.py:798\u001b[0m, in \u001b[0;36mtrace\u001b[1;34m(func, example_inputs, optimize, check_trace, check_inputs, check_tolerance, strict, _force_outplace, _module_class, _compilation_unit, example_kwarg_inputs, _store_inputs)\u001b[0m\n\u001b[0;32m    796\u001b[0m         \u001b[38;5;28;01melse\u001b[39;00m:\n\u001b[0;32m    797\u001b[0m             \u001b[38;5;28;01mraise\u001b[39;00m \u001b[38;5;167;01mRuntimeError\u001b[39;00m(\u001b[38;5;124m\"\u001b[39m\u001b[38;5;124mexample_kwarg_inputs should be a dict\u001b[39m\u001b[38;5;124m\"\u001b[39m)\n\u001b[1;32m--> 798\u001b[0m     \u001b[38;5;28;01mreturn\u001b[39;00m \u001b[43mtrace_module\u001b[49m\u001b[43m(\u001b[49m\n\u001b[0;32m    799\u001b[0m \u001b[43m        \u001b[49m\u001b[43mfunc\u001b[49m\u001b[43m,\u001b[49m\n\u001b[0;32m    800\u001b[0m \u001b[43m        \u001b[49m\u001b[43m{\u001b[49m\u001b[38;5;124;43m\"\u001b[39;49m\u001b[38;5;124;43mforward\u001b[39;49m\u001b[38;5;124;43m\"\u001b[39;49m\u001b[43m:\u001b[49m\u001b[43m \u001b[49m\u001b[43mexample_inputs\u001b[49m\u001b[43m}\u001b[49m\u001b[43m,\u001b[49m\n\u001b[0;32m    801\u001b[0m \u001b[43m        \u001b[49m\u001b[38;5;28;43;01mNone\u001b[39;49;00m\u001b[43m,\u001b[49m\n\u001b[0;32m    802\u001b[0m \u001b[43m        \u001b[49m\u001b[43mcheck_trace\u001b[49m\u001b[43m,\u001b[49m\n\u001b[0;32m    803\u001b[0m \u001b[43m        \u001b[49m\u001b[43mwrap_check_inputs\u001b[49m\u001b[43m(\u001b[49m\u001b[43mcheck_inputs\u001b[49m\u001b[43m)\u001b[49m\u001b[43m,\u001b[49m\n\u001b[0;32m    804\u001b[0m \u001b[43m        \u001b[49m\u001b[43mcheck_tolerance\u001b[49m\u001b[43m,\u001b[49m\n\u001b[0;32m    805\u001b[0m \u001b[43m        \u001b[49m\u001b[43mstrict\u001b[49m\u001b[43m,\u001b[49m\n\u001b[0;32m    806\u001b[0m \u001b[43m        \u001b[49m\u001b[43m_force_outplace\u001b[49m\u001b[43m,\u001b[49m\n\u001b[0;32m    807\u001b[0m \u001b[43m        \u001b[49m\u001b[43m_module_class\u001b[49m\u001b[43m,\u001b[49m\n\u001b[0;32m    808\u001b[0m \u001b[43m        \u001b[49m\u001b[43mexample_inputs_is_kwarg\u001b[49m\u001b[38;5;241;43m=\u001b[39;49m\u001b[38;5;28;43misinstance\u001b[39;49m\u001b[43m(\u001b[49m\u001b[43mexample_kwarg_inputs\u001b[49m\u001b[43m,\u001b[49m\u001b[43m \u001b[49m\u001b[38;5;28;43mdict\u001b[39;49m\u001b[43m)\u001b[49m\u001b[43m,\u001b[49m\n\u001b[0;32m    809\u001b[0m \u001b[43m        \u001b[49m\u001b[43m_store_inputs\u001b[49m\u001b[38;5;241;43m=\u001b[39;49m\u001b[43m_store_inputs\u001b[49m\u001b[43m,\u001b[49m\n\u001b[0;32m    810\u001b[0m \u001b[43m    \u001b[49m\u001b[43m)\u001b[49m\n\u001b[0;32m    811\u001b[0m \u001b[38;5;28;01mif\u001b[39;00m (\n\u001b[0;32m    812\u001b[0m     \u001b[38;5;28mhasattr\u001b[39m(func, \u001b[38;5;124m\"\u001b[39m\u001b[38;5;124m__self__\u001b[39m\u001b[38;5;124m\"\u001b[39m)\n\u001b[0;32m    813\u001b[0m     \u001b[38;5;129;01mand\u001b[39;00m \u001b[38;5;28misinstance\u001b[39m(func\u001b[38;5;241m.\u001b[39m\u001b[38;5;18m__self__\u001b[39m, torch\u001b[38;5;241m.\u001b[39mnn\u001b[38;5;241m.\u001b[39mModule)\n\u001b[0;32m    814\u001b[0m     \u001b[38;5;129;01mand\u001b[39;00m func\u001b[38;5;241m.\u001b[39m\u001b[38;5;18m__name__\u001b[39m \u001b[38;5;241m==\u001b[39m \u001b[38;5;124m\"\u001b[39m\u001b[38;5;124mforward\u001b[39m\u001b[38;5;124m\"\u001b[39m\n\u001b[0;32m    815\u001b[0m ):\n\u001b[0;32m    816\u001b[0m     \u001b[38;5;28;01mif\u001b[39;00m example_inputs \u001b[38;5;129;01mis\u001b[39;00m \u001b[38;5;28;01mNone\u001b[39;00m:\n",
      "File \u001b[1;32m~\\AppData\\Local\\Packages\\PythonSoftwareFoundation.Python.3.11_qbz5n2kfra8p0\\LocalCache\\local-packages\\Python311\\site-packages\\torch\\jit\\_trace.py:1065\u001b[0m, in \u001b[0;36mtrace_module\u001b[1;34m(mod, inputs, optimize, check_trace, check_inputs, check_tolerance, strict, _force_outplace, _module_class, _compilation_unit, example_inputs_is_kwarg, _store_inputs)\u001b[0m\n\u001b[0;32m   1063\u001b[0m \u001b[38;5;28;01melse\u001b[39;00m:\n\u001b[0;32m   1064\u001b[0m     example_inputs \u001b[38;5;241m=\u001b[39m make_tuple(example_inputs)\n\u001b[1;32m-> 1065\u001b[0m     \u001b[43mmodule\u001b[49m\u001b[38;5;241;43m.\u001b[39;49m\u001b[43m_c\u001b[49m\u001b[38;5;241;43m.\u001b[39;49m\u001b[43m_create_method_from_trace\u001b[49m\u001b[43m(\u001b[49m\n\u001b[0;32m   1066\u001b[0m \u001b[43m        \u001b[49m\u001b[43mmethod_name\u001b[49m\u001b[43m,\u001b[49m\n\u001b[0;32m   1067\u001b[0m \u001b[43m        \u001b[49m\u001b[43mfunc\u001b[49m\u001b[43m,\u001b[49m\n\u001b[0;32m   1068\u001b[0m \u001b[43m        \u001b[49m\u001b[43mexample_inputs\u001b[49m\u001b[43m,\u001b[49m\n\u001b[0;32m   1069\u001b[0m \u001b[43m        \u001b[49m\u001b[43mvar_lookup_fn\u001b[49m\u001b[43m,\u001b[49m\n\u001b[0;32m   1070\u001b[0m \u001b[43m        \u001b[49m\u001b[43mstrict\u001b[49m\u001b[43m,\u001b[49m\n\u001b[0;32m   1071\u001b[0m \u001b[43m        \u001b[49m\u001b[43m_force_outplace\u001b[49m\u001b[43m,\u001b[49m\n\u001b[0;32m   1072\u001b[0m \u001b[43m        \u001b[49m\u001b[43margument_names\u001b[49m\u001b[43m,\u001b[49m\n\u001b[0;32m   1073\u001b[0m \u001b[43m        \u001b[49m\u001b[43m_store_inputs\u001b[49m\u001b[43m,\u001b[49m\n\u001b[0;32m   1074\u001b[0m \u001b[43m    \u001b[49m\u001b[43m)\u001b[49m\n\u001b[0;32m   1076\u001b[0m check_trace_method \u001b[38;5;241m=\u001b[39m module\u001b[38;5;241m.\u001b[39m_c\u001b[38;5;241m.\u001b[39m_get_method(method_name)\n\u001b[0;32m   1078\u001b[0m \u001b[38;5;66;03m# Check the trace against new traces created from user-specified inputs\u001b[39;00m\n",
      "File \u001b[1;32m~\\AppData\\Local\\Packages\\PythonSoftwareFoundation.Python.3.11_qbz5n2kfra8p0\\LocalCache\\local-packages\\Python311\\site-packages\\torch\\nn\\modules\\module.py:1518\u001b[0m, in \u001b[0;36mModule._wrapped_call_impl\u001b[1;34m(self, *args, **kwargs)\u001b[0m\n\u001b[0;32m   1516\u001b[0m     \u001b[38;5;28;01mreturn\u001b[39;00m \u001b[38;5;28mself\u001b[39m\u001b[38;5;241m.\u001b[39m_compiled_call_impl(\u001b[38;5;241m*\u001b[39margs, \u001b[38;5;241m*\u001b[39m\u001b[38;5;241m*\u001b[39mkwargs)  \u001b[38;5;66;03m# type: ignore[misc]\u001b[39;00m\n\u001b[0;32m   1517\u001b[0m \u001b[38;5;28;01melse\u001b[39;00m:\n\u001b[1;32m-> 1518\u001b[0m     \u001b[38;5;28;01mreturn\u001b[39;00m \u001b[38;5;28;43mself\u001b[39;49m\u001b[38;5;241;43m.\u001b[39;49m\u001b[43m_call_impl\u001b[49m\u001b[43m(\u001b[49m\u001b[38;5;241;43m*\u001b[39;49m\u001b[43margs\u001b[49m\u001b[43m,\u001b[49m\u001b[43m \u001b[49m\u001b[38;5;241;43m*\u001b[39;49m\u001b[38;5;241;43m*\u001b[39;49m\u001b[43mkwargs\u001b[49m\u001b[43m)\u001b[49m\n",
      "File \u001b[1;32m~\\AppData\\Local\\Packages\\PythonSoftwareFoundation.Python.3.11_qbz5n2kfra8p0\\LocalCache\\local-packages\\Python311\\site-packages\\torch\\nn\\modules\\module.py:1527\u001b[0m, in \u001b[0;36mModule._call_impl\u001b[1;34m(self, *args, **kwargs)\u001b[0m\n\u001b[0;32m   1522\u001b[0m \u001b[38;5;66;03m# If we don't have any hooks, we want to skip the rest of the logic in\u001b[39;00m\n\u001b[0;32m   1523\u001b[0m \u001b[38;5;66;03m# this function, and just call forward.\u001b[39;00m\n\u001b[0;32m   1524\u001b[0m \u001b[38;5;28;01mif\u001b[39;00m \u001b[38;5;129;01mnot\u001b[39;00m (\u001b[38;5;28mself\u001b[39m\u001b[38;5;241m.\u001b[39m_backward_hooks \u001b[38;5;129;01mor\u001b[39;00m \u001b[38;5;28mself\u001b[39m\u001b[38;5;241m.\u001b[39m_backward_pre_hooks \u001b[38;5;129;01mor\u001b[39;00m \u001b[38;5;28mself\u001b[39m\u001b[38;5;241m.\u001b[39m_forward_hooks \u001b[38;5;129;01mor\u001b[39;00m \u001b[38;5;28mself\u001b[39m\u001b[38;5;241m.\u001b[39m_forward_pre_hooks\n\u001b[0;32m   1525\u001b[0m         \u001b[38;5;129;01mor\u001b[39;00m _global_backward_pre_hooks \u001b[38;5;129;01mor\u001b[39;00m _global_backward_hooks\n\u001b[0;32m   1526\u001b[0m         \u001b[38;5;129;01mor\u001b[39;00m _global_forward_hooks \u001b[38;5;129;01mor\u001b[39;00m _global_forward_pre_hooks):\n\u001b[1;32m-> 1527\u001b[0m     \u001b[38;5;28;01mreturn\u001b[39;00m \u001b[43mforward_call\u001b[49m\u001b[43m(\u001b[49m\u001b[38;5;241;43m*\u001b[39;49m\u001b[43margs\u001b[49m\u001b[43m,\u001b[49m\u001b[43m \u001b[49m\u001b[38;5;241;43m*\u001b[39;49m\u001b[38;5;241;43m*\u001b[39;49m\u001b[43mkwargs\u001b[49m\u001b[43m)\u001b[49m\n\u001b[0;32m   1529\u001b[0m \u001b[38;5;28;01mtry\u001b[39;00m:\n\u001b[0;32m   1530\u001b[0m     result \u001b[38;5;241m=\u001b[39m \u001b[38;5;28;01mNone\u001b[39;00m\n",
      "File \u001b[1;32m~\\AppData\\Local\\Packages\\PythonSoftwareFoundation.Python.3.11_qbz5n2kfra8p0\\LocalCache\\local-packages\\Python311\\site-packages\\torch\\nn\\modules\\module.py:1508\u001b[0m, in \u001b[0;36mModule._slow_forward\u001b[1;34m(self, *input, **kwargs)\u001b[0m\n\u001b[0;32m   1506\u001b[0m         recording_scopes \u001b[38;5;241m=\u001b[39m \u001b[38;5;28;01mFalse\u001b[39;00m\n\u001b[0;32m   1507\u001b[0m \u001b[38;5;28;01mtry\u001b[39;00m:\n\u001b[1;32m-> 1508\u001b[0m     result \u001b[38;5;241m=\u001b[39m \u001b[38;5;28;43mself\u001b[39;49m\u001b[38;5;241;43m.\u001b[39;49m\u001b[43mforward\u001b[49m\u001b[43m(\u001b[49m\u001b[38;5;241;43m*\u001b[39;49m\u001b[38;5;28;43minput\u001b[39;49m\u001b[43m,\u001b[49m\u001b[43m \u001b[49m\u001b[38;5;241;43m*\u001b[39;49m\u001b[38;5;241;43m*\u001b[39;49m\u001b[43mkwargs\u001b[49m\u001b[43m)\u001b[49m\n\u001b[0;32m   1509\u001b[0m \u001b[38;5;28;01mfinally\u001b[39;00m:\n\u001b[0;32m   1510\u001b[0m     \u001b[38;5;28;01mif\u001b[39;00m recording_scopes:\n",
      "Cell \u001b[1;32mIn[11], line 73\u001b[0m, in \u001b[0;36mCIFAR10Model.forward\u001b[1;34m(self, xb)\u001b[0m\n\u001b[0;32m     63\u001b[0m \u001b[38;5;250m\u001b[39m\u001b[38;5;124;03m\"\"\"\u001b[39;00m\n\u001b[0;32m     64\u001b[0m \u001b[38;5;124;03mInput:\u001b[39;00m\n\u001b[0;32m     65\u001b[0m \u001b[38;5;124;03mxb is a MiniBatch of the current image\u001b[39;00m\n\u001b[0;32m     66\u001b[0m \u001b[38;5;124;03mOutputs:\u001b[39;00m\n\u001b[0;32m     67\u001b[0m \u001b[38;5;124;03mout - output of the network\u001b[39;00m\n\u001b[0;32m     68\u001b[0m \u001b[38;5;124;03m\"\"\"\u001b[39;00m\n\u001b[0;32m     69\u001b[0m \u001b[38;5;66;03m#############################\u001b[39;00m\n\u001b[0;32m     70\u001b[0m \u001b[38;5;66;03m# Fill your network structure of choice here!\u001b[39;00m\n\u001b[0;32m     71\u001b[0m \u001b[38;5;66;03m#############################\u001b[39;00m\n\u001b[1;32m---> 73\u001b[0m out \u001b[38;5;241m=\u001b[39m \u001b[38;5;28mself\u001b[39m\u001b[38;5;241m.\u001b[39mmp(F\u001b[38;5;241m.\u001b[39mrelu(\u001b[38;5;28;43mself\u001b[39;49m\u001b[38;5;241;43m.\u001b[39;49m\u001b[43mcn1\u001b[49m\u001b[43m(\u001b[49m\u001b[43mxb\u001b[49m\u001b[43m)\u001b[49m))\n\u001b[0;32m     74\u001b[0m out \u001b[38;5;241m=\u001b[39m \u001b[38;5;28mself\u001b[39m\u001b[38;5;241m.\u001b[39mmp(F\u001b[38;5;241m.\u001b[39mrelu(\u001b[38;5;28mself\u001b[39m\u001b[38;5;241m.\u001b[39mcn2(out)))\n\u001b[0;32m     75\u001b[0m out \u001b[38;5;241m=\u001b[39m out\u001b[38;5;241m.\u001b[39mview(\u001b[38;5;241m-\u001b[39m\u001b[38;5;241m1\u001b[39m, \u001b[38;5;241m1280\u001b[39m) \u001b[38;5;66;03m#reshaping\u001b[39;00m\n",
      "File \u001b[1;32m~\\AppData\\Local\\Packages\\PythonSoftwareFoundation.Python.3.11_qbz5n2kfra8p0\\LocalCache\\local-packages\\Python311\\site-packages\\torch\\nn\\modules\\module.py:1518\u001b[0m, in \u001b[0;36mModule._wrapped_call_impl\u001b[1;34m(self, *args, **kwargs)\u001b[0m\n\u001b[0;32m   1516\u001b[0m     \u001b[38;5;28;01mreturn\u001b[39;00m \u001b[38;5;28mself\u001b[39m\u001b[38;5;241m.\u001b[39m_compiled_call_impl(\u001b[38;5;241m*\u001b[39margs, \u001b[38;5;241m*\u001b[39m\u001b[38;5;241m*\u001b[39mkwargs)  \u001b[38;5;66;03m# type: ignore[misc]\u001b[39;00m\n\u001b[0;32m   1517\u001b[0m \u001b[38;5;28;01melse\u001b[39;00m:\n\u001b[1;32m-> 1518\u001b[0m     \u001b[38;5;28;01mreturn\u001b[39;00m \u001b[38;5;28;43mself\u001b[39;49m\u001b[38;5;241;43m.\u001b[39;49m\u001b[43m_call_impl\u001b[49m\u001b[43m(\u001b[49m\u001b[38;5;241;43m*\u001b[39;49m\u001b[43margs\u001b[49m\u001b[43m,\u001b[49m\u001b[43m \u001b[49m\u001b[38;5;241;43m*\u001b[39;49m\u001b[38;5;241;43m*\u001b[39;49m\u001b[43mkwargs\u001b[49m\u001b[43m)\u001b[49m\n",
      "File \u001b[1;32m~\\AppData\\Local\\Packages\\PythonSoftwareFoundation.Python.3.11_qbz5n2kfra8p0\\LocalCache\\local-packages\\Python311\\site-packages\\torch\\nn\\modules\\module.py:1527\u001b[0m, in \u001b[0;36mModule._call_impl\u001b[1;34m(self, *args, **kwargs)\u001b[0m\n\u001b[0;32m   1522\u001b[0m \u001b[38;5;66;03m# If we don't have any hooks, we want to skip the rest of the logic in\u001b[39;00m\n\u001b[0;32m   1523\u001b[0m \u001b[38;5;66;03m# this function, and just call forward.\u001b[39;00m\n\u001b[0;32m   1524\u001b[0m \u001b[38;5;28;01mif\u001b[39;00m \u001b[38;5;129;01mnot\u001b[39;00m (\u001b[38;5;28mself\u001b[39m\u001b[38;5;241m.\u001b[39m_backward_hooks \u001b[38;5;129;01mor\u001b[39;00m \u001b[38;5;28mself\u001b[39m\u001b[38;5;241m.\u001b[39m_backward_pre_hooks \u001b[38;5;129;01mor\u001b[39;00m \u001b[38;5;28mself\u001b[39m\u001b[38;5;241m.\u001b[39m_forward_hooks \u001b[38;5;129;01mor\u001b[39;00m \u001b[38;5;28mself\u001b[39m\u001b[38;5;241m.\u001b[39m_forward_pre_hooks\n\u001b[0;32m   1525\u001b[0m         \u001b[38;5;129;01mor\u001b[39;00m _global_backward_pre_hooks \u001b[38;5;129;01mor\u001b[39;00m _global_backward_hooks\n\u001b[0;32m   1526\u001b[0m         \u001b[38;5;129;01mor\u001b[39;00m _global_forward_hooks \u001b[38;5;129;01mor\u001b[39;00m _global_forward_pre_hooks):\n\u001b[1;32m-> 1527\u001b[0m     \u001b[38;5;28;01mreturn\u001b[39;00m \u001b[43mforward_call\u001b[49m\u001b[43m(\u001b[49m\u001b[38;5;241;43m*\u001b[39;49m\u001b[43margs\u001b[49m\u001b[43m,\u001b[49m\u001b[43m \u001b[49m\u001b[38;5;241;43m*\u001b[39;49m\u001b[38;5;241;43m*\u001b[39;49m\u001b[43mkwargs\u001b[49m\u001b[43m)\u001b[49m\n\u001b[0;32m   1529\u001b[0m \u001b[38;5;28;01mtry\u001b[39;00m:\n\u001b[0;32m   1530\u001b[0m     result \u001b[38;5;241m=\u001b[39m \u001b[38;5;28;01mNone\u001b[39;00m\n",
      "File \u001b[1;32m~\\AppData\\Local\\Packages\\PythonSoftwareFoundation.Python.3.11_qbz5n2kfra8p0\\LocalCache\\local-packages\\Python311\\site-packages\\torch\\nn\\modules\\module.py:1508\u001b[0m, in \u001b[0;36mModule._slow_forward\u001b[1;34m(self, *input, **kwargs)\u001b[0m\n\u001b[0;32m   1506\u001b[0m         recording_scopes \u001b[38;5;241m=\u001b[39m \u001b[38;5;28;01mFalse\u001b[39;00m\n\u001b[0;32m   1507\u001b[0m \u001b[38;5;28;01mtry\u001b[39;00m:\n\u001b[1;32m-> 1508\u001b[0m     result \u001b[38;5;241m=\u001b[39m \u001b[38;5;28;43mself\u001b[39;49m\u001b[38;5;241;43m.\u001b[39;49m\u001b[43mforward\u001b[49m\u001b[43m(\u001b[49m\u001b[38;5;241;43m*\u001b[39;49m\u001b[38;5;28;43minput\u001b[39;49m\u001b[43m,\u001b[49m\u001b[43m \u001b[49m\u001b[38;5;241;43m*\u001b[39;49m\u001b[38;5;241;43m*\u001b[39;49m\u001b[43mkwargs\u001b[49m\u001b[43m)\u001b[49m\n\u001b[0;32m   1509\u001b[0m \u001b[38;5;28;01mfinally\u001b[39;00m:\n\u001b[0;32m   1510\u001b[0m     \u001b[38;5;28;01mif\u001b[39;00m recording_scopes:\n",
      "File \u001b[1;32m~\\AppData\\Local\\Packages\\PythonSoftwareFoundation.Python.3.11_qbz5n2kfra8p0\\LocalCache\\local-packages\\Python311\\site-packages\\torch\\nn\\modules\\conv.py:460\u001b[0m, in \u001b[0;36mConv2d.forward\u001b[1;34m(self, input)\u001b[0m\n\u001b[0;32m    459\u001b[0m \u001b[38;5;28;01mdef\u001b[39;00m \u001b[38;5;21mforward\u001b[39m(\u001b[38;5;28mself\u001b[39m, \u001b[38;5;28minput\u001b[39m: Tensor) \u001b[38;5;241m-\u001b[39m\u001b[38;5;241m>\u001b[39m Tensor:\n\u001b[1;32m--> 460\u001b[0m     \u001b[38;5;28;01mreturn\u001b[39;00m \u001b[38;5;28;43mself\u001b[39;49m\u001b[38;5;241;43m.\u001b[39;49m\u001b[43m_conv_forward\u001b[49m\u001b[43m(\u001b[49m\u001b[38;5;28;43minput\u001b[39;49m\u001b[43m,\u001b[49m\u001b[43m \u001b[49m\u001b[38;5;28;43mself\u001b[39;49m\u001b[38;5;241;43m.\u001b[39;49m\u001b[43mweight\u001b[49m\u001b[43m,\u001b[49m\u001b[43m \u001b[49m\u001b[38;5;28;43mself\u001b[39;49m\u001b[38;5;241;43m.\u001b[39;49m\u001b[43mbias\u001b[49m\u001b[43m)\u001b[49m\n",
      "File \u001b[1;32m~\\AppData\\Local\\Packages\\PythonSoftwareFoundation.Python.3.11_qbz5n2kfra8p0\\LocalCache\\local-packages\\Python311\\site-packages\\torch\\nn\\modules\\conv.py:456\u001b[0m, in \u001b[0;36mConv2d._conv_forward\u001b[1;34m(self, input, weight, bias)\u001b[0m\n\u001b[0;32m    452\u001b[0m \u001b[38;5;28;01mif\u001b[39;00m \u001b[38;5;28mself\u001b[39m\u001b[38;5;241m.\u001b[39mpadding_mode \u001b[38;5;241m!=\u001b[39m \u001b[38;5;124m'\u001b[39m\u001b[38;5;124mzeros\u001b[39m\u001b[38;5;124m'\u001b[39m:\n\u001b[0;32m    453\u001b[0m     \u001b[38;5;28;01mreturn\u001b[39;00m F\u001b[38;5;241m.\u001b[39mconv2d(F\u001b[38;5;241m.\u001b[39mpad(\u001b[38;5;28minput\u001b[39m, \u001b[38;5;28mself\u001b[39m\u001b[38;5;241m.\u001b[39m_reversed_padding_repeated_twice, mode\u001b[38;5;241m=\u001b[39m\u001b[38;5;28mself\u001b[39m\u001b[38;5;241m.\u001b[39mpadding_mode),\n\u001b[0;32m    454\u001b[0m                     weight, bias, \u001b[38;5;28mself\u001b[39m\u001b[38;5;241m.\u001b[39mstride,\n\u001b[0;32m    455\u001b[0m                     _pair(\u001b[38;5;241m0\u001b[39m), \u001b[38;5;28mself\u001b[39m\u001b[38;5;241m.\u001b[39mdilation, \u001b[38;5;28mself\u001b[39m\u001b[38;5;241m.\u001b[39mgroups)\n\u001b[1;32m--> 456\u001b[0m \u001b[38;5;28;01mreturn\u001b[39;00m \u001b[43mF\u001b[49m\u001b[38;5;241;43m.\u001b[39;49m\u001b[43mconv2d\u001b[49m\u001b[43m(\u001b[49m\u001b[38;5;28;43minput\u001b[39;49m\u001b[43m,\u001b[49m\u001b[43m \u001b[49m\u001b[43mweight\u001b[49m\u001b[43m,\u001b[49m\u001b[43m \u001b[49m\u001b[43mbias\u001b[49m\u001b[43m,\u001b[49m\u001b[43m \u001b[49m\u001b[38;5;28;43mself\u001b[39;49m\u001b[38;5;241;43m.\u001b[39;49m\u001b[43mstride\u001b[49m\u001b[43m,\u001b[49m\n\u001b[0;32m    457\u001b[0m \u001b[43m                \u001b[49m\u001b[38;5;28;43mself\u001b[39;49m\u001b[38;5;241;43m.\u001b[39;49m\u001b[43mpadding\u001b[49m\u001b[43m,\u001b[49m\u001b[43m \u001b[49m\u001b[38;5;28;43mself\u001b[39;49m\u001b[38;5;241;43m.\u001b[39;49m\u001b[43mdilation\u001b[49m\u001b[43m,\u001b[49m\u001b[43m \u001b[49m\u001b[38;5;28;43mself\u001b[39;49m\u001b[38;5;241;43m.\u001b[39;49m\u001b[43mgroups\u001b[49m\u001b[43m)\u001b[49m\n",
      "File \u001b[1;32m~\\AppData\\Local\\Packages\\PythonSoftwareFoundation.Python.3.11_qbz5n2kfra8p0\\LocalCache\\local-packages\\Python311\\site-packages\\torch\\jit\\_trace.py:39\u001b[0m, in \u001b[0;36m_create_interpreter_name_lookup_fn.<locals>._get_interpreter_name_for_var\u001b[1;34m(var)\u001b[0m\n\u001b[0;32m     38\u001b[0m \u001b[38;5;28;01mdef\u001b[39;00m \u001b[38;5;21m_create_interpreter_name_lookup_fn\u001b[39m(frames_up\u001b[38;5;241m=\u001b[39m\u001b[38;5;241m1\u001b[39m):\n\u001b[1;32m---> 39\u001b[0m     \u001b[38;5;28;01mdef\u001b[39;00m \u001b[38;5;21m_get_interpreter_name_for_var\u001b[39m(var):\n\u001b[0;32m     40\u001b[0m         frame \u001b[38;5;241m=\u001b[39m inspect\u001b[38;5;241m.\u001b[39mcurrentframe()\n\u001b[0;32m     41\u001b[0m         \u001b[38;5;28;01mif\u001b[39;00m \u001b[38;5;129;01mnot\u001b[39;00m frame:\n",
      "\u001b[1;31mKeyboardInterrupt\u001b[0m: "
     ]
    }
   ],
   "source": [
    "import torch\n",
    "import torchvision\n",
    "from torch.utils.tensorboard import SummaryWriter\n",
    "from torchvision import datasets, transforms\n",
    "from torch.optim import AdamW\n",
    "from torchvision.datasets import CIFAR10\n",
    "import cv2\n",
    "import sys\n",
    "import os\n",
    "import numpy as np\n",
    "import random\n",
    "import skimage\n",
    "import PIL\n",
    "import os\n",
    "import glob\n",
    "import random\n",
    "from skimage import data, exposure, img_as_float\n",
    "import matplotlib.pyplot as plt\n",
    "import numpy as np\n",
    "import time\n",
    "from torchvision.transforms import ToTensor\n",
    "from torchvision.transforms import v2\n",
    "import argparse\n",
    "import shutil\n",
    "import string\n",
    "from termcolor import colored, cprint\n",
    "import math as m\n",
    "from tqdm.notebook import tqdm\n",
    "\n",
    "def SetupAll(CheckPointPath):\n",
    "    \"\"\"\n",
    "    Inputs:\n",
    "    CheckPointPath - Path to save checkpoints/model\n",
    "    Outputs:\n",
    "    SaveCheckPoint - Save checkpoint every SaveCheckPoint iteration in every epoch, checkpoint saved automatically after every epoch\n",
    "    ImageSize - Size of the image\n",
    "    NumTrainSamples - length(Train)\n",
    "    TrainLabels - Labels corresponding to Train\n",
    "    NumClasses - Number of classes\n",
    "    \"\"\"\n",
    "    # Read and Setup Labels\n",
    "    LabelsPathTrain = '/content/data/TxtFiles/LabelsTrain.txt'\n",
    "    # LabelsPathTrain = 'TxtFiles/LabelsTrain.txt'\n",
    "    TrainLabels = ReadLabels(LabelsPathTrain)\n",
    "\n",
    "    # If CheckPointPath doesn't exist make the path\n",
    "    if(not (os.path.isdir(CheckPointPath))):\n",
    "       os.makedirs(CheckPointPath)\n",
    "\n",
    "    # Save checkpoint every SaveCheckPoint iteration in every epoch, checkpoint saved automatically after every epoch\n",
    "    SaveCheckPoint = 100\n",
    "\n",
    "    # Image Input Shape\n",
    "    ImageSize = [32, 32, 3]\n",
    "    NumTrainSamples = len(TrainSet)\n",
    "\n",
    "    # Number of classes\n",
    "    NumClasses = 10\n",
    "\n",
    "    return SaveCheckPoint, ImageSize, NumTrainSamples, TrainLabels, NumClasses\n",
    "\n",
    "\n",
    "def ReadLabels(LabelsPathTrain):\n",
    "    if(not (os.path.isfile(LabelsPathTrain))):\n",
    "        print('ERROR: Train Labels do not exist in '+LabelsPathTrain)\n",
    "        sys.exit()\n",
    "    else:\n",
    "        TrainLabels = open(LabelsPathTrain, 'r')\n",
    "        TrainLabels = TrainLabels.read()\n",
    "        TrainLabels = map(float, TrainLabels.split())\n",
    "\n",
    "    return TrainLabels\n",
    "\n",
    "\n",
    "def ReadDirNames(ReadPath):\n",
    "    \"\"\"\n",
    "    Inputs:\n",
    "    ReadPath is the path of the file you want to read\n",
    "    Outputs:\n",
    "    DirNames is the data loaded from /content/data/TxtFiles/DirNames.txt which has full path to all image files without extension\n",
    "    \"\"\"\n",
    "    # Read text files\n",
    "    DirNames = open(ReadPath, 'r')\n",
    "    DirNames = DirNames.read()\n",
    "    DirNames = DirNames.split()\n",
    "    return DirNames\n",
    "\n",
    "\n",
    "def GenerateBatch(TrainSet, TrainLabels, ImageSize, MiniBatchSize):\n",
    "    \"\"\"\n",
    "    Inputs:\n",
    "    TrainSet - Variable with Subfolder paths to train files\n",
    "    NOTE that Train can be replaced by Val/Test for generating batch corresponding to validation (held-out testing in this case)/testing\n",
    "    TrainLabels - Labels corresponding to Train\n",
    "    NOTE that TrainLabels can be replaced by Val/TestLabels for generating batch corresponding to validation (held-out testing in this case)/testing\n",
    "    ImageSize is the Size of the Image\n",
    "    MiniBatchSize is the size of the MiniBatch\n",
    "\n",
    "    Outputs:\n",
    "    I1Batch - Batch of images\n",
    "    LabelBatch - Batch of one-hot encoded labels\n",
    "    \"\"\"\n",
    "    I1Batch = []\n",
    "    LabelBatch = []\n",
    "\n",
    "    ImageNum = 0\n",
    "    while ImageNum < MiniBatchSize:\n",
    "        # Generate random image\n",
    "        RandIdx = random.randint(0, len(TrainSet)-1)\n",
    "        ImageNum += 1\n",
    "\n",
    "    \t  ##########################################################\n",
    "    \t  # Add any standardization or data augmentation here!\n",
    "    \t  ##########################################################\n",
    "        # transforms = v2.Compose([\n",
    "        #             # v2.RandomResizedCrop(size=(40, 40), antialias=True),\n",
    "        #             # v2.RandomHorizontalFlip(p=0.5),\n",
    "        #             v2.ToDtype(torch.float32, scale=True),\n",
    "        #             v2.Normalize(mean=[0.485, 0.456, 0.406], std=[0.229, 0.224, 0.225]),\n",
    "        #             ])\n",
    "        I1, Label = TrainSet[RandIdx]\n",
    "        # I1 = transforms(I1)\n",
    "        # Label = convertToOneHot(TrainLabels[RandIdx], 10)\n",
    "\n",
    "        # Append All Images and Mask\n",
    "        I1Batch.append(I1)\n",
    "        LabelBatch.append(torch.tensor(Label))\n",
    "\n",
    "    return torch.stack(I1Batch), torch.stack(LabelBatch)\n",
    "\n",
    "\n",
    "def PrettyPrint(NumEpochs, DivTrain, MiniBatchSize, NumTrainSamples, LatestFile):\n",
    "    \"\"\"\n",
    "    Prints all stats with all arguments\n",
    "    \"\"\"\n",
    "    print('Number of Epochs Training will run for ' + str(NumEpochs))\n",
    "    print('Factor of reduction in training data is ' + str(DivTrain))\n",
    "    print('Mini Batch Size ' + str(MiniBatchSize))\n",
    "    print('Number of Training Images ' + str(NumTrainSamples))\n",
    "    if LatestFile is not None:\n",
    "        print('Loading latest checkpoint with the name ' + LatestFile)\n",
    "\n",
    "def TrainOperation(TrainLabels, NumTrainSamples, ImageSize,\n",
    "                   NumEpochs, MiniBatchSize, SaveCheckPoint, CheckPointPath,\n",
    "                   DivTrain, LatestFile, TrainSet, LogsPath):\n",
    "    \"\"\"\n",
    "    Inputs:\n",
    "    TrainLabels - Labels corresponding to Train/Test\n",
    "    NumTrainSamples - length(Train)\n",
    "    ImageSize - Size of the image\n",
    "    NumEpochs - Number of passes through the Train data\n",
    "    MiniBatchSize is the size of the MiniBatch\n",
    "    SaveCheckPoint - Save checkpoint every SaveCheckPoint iteration in every epoch, checkpoint saved automatically after every epoch\n",
    "    CheckPointPath - Path to save checkpoints/model\n",
    "    DivTrain - Divide the data by this number for Epoch calculation, use if you have a lot of dataor for debugging code\n",
    "    LatestFile - Latest checkpointfile to continue training\n",
    "    TrainSet - The training dataset\n",
    "    LogsPath - Path to save Tensorboard Logs\n",
    "    Outputs:\n",
    "    Saves Trained network in CheckPointPath and Logs to LogsPath\n",
    "    \"\"\"\n",
    "    # Initialize the model\n",
    "    model = CIFAR10Model(InputSize= 3072 ,OutputSize=10)\n",
    "    # model = CIFAR10Model2(InputSize= 3072 ,OutputSize=10)\n",
    "    # model = ResNet(InputSize= 3072 ,OutputSize=10)\n",
    "    # model = ResNeXT(InputSize= 3072 ,OutputSize=10)\n",
    "    # model = DenseNet(InputSize= 3072 ,OutputSize=10)\n",
    "    model.eval()\n",
    "\n",
    "    ###############################################\n",
    "    # Fill your optimizer of choice here!\n",
    "    ###############################################\n",
    "    Optimizer = torch.optim.Adam(model.parameters(), lr = 0.001)\n",
    "\n",
    "    # Tensorboard\n",
    "    # Create a summary to monitor loss tensor\n",
    "    Writer = SummaryWriter(LogsPath)\n",
    "\n",
    "    if LatestFile is not None:\n",
    "        CheckPoint = torch.load(CheckPointPath + LatestFile + '.ckpt')\n",
    "        # Extract only numbers from the name\n",
    "        StartEpoch = int(''.join(c for c in LatestFile.split('a')[0] if c.isdigit()))\n",
    "        model.load_state_dict(CheckPoint['model_state_dict'])\n",
    "        print('Loaded latest checkpoint with the name ' + LatestFile + '....')\n",
    "    else:\n",
    "        StartEpoch = 0\n",
    "        print('New model initialized....')\n",
    "\n",
    "    for Epochs in tqdm(range(StartEpoch, NumEpochs)):\n",
    "        NumIterationsPerEpoch = int(NumTrainSamples/MiniBatchSize/DivTrain)\n",
    "        for PerEpochCounter in tqdm(range(NumIterationsPerEpoch)):\n",
    "            Batch = GenerateBatch(TrainSet, TrainLabels, ImageSize, MiniBatchSize)\n",
    "\n",
    "            # Predict output with forward pass\n",
    "            LossThisBatch = model.training_step(Batch, Writer)\n",
    "\n",
    "            Optimizer.zero_grad()\n",
    "            LossThisBatch.backward()\n",
    "            Optimizer.step()\n",
    "\n",
    "            # Save checkpoint every some SaveCheckPoint's iterations\n",
    "            if PerEpochCounter % SaveCheckPoint == 0:\n",
    "                # Save the Model learnt in this epoch\n",
    "                SaveName =  CheckPointPath + str(Epochs) + 'a' + str(PerEpochCounter) + 'model.ckpt'\n",
    "\n",
    "                torch.save({'epoch': Epochs,'model_state_dict': model.state_dict(),'optimizer_state_dict': Optimizer.state_dict(),'loss': LossThisBatch}, SaveName)\n",
    "                print('\\n' + SaveName + ' Model Saved...')\n",
    "\n",
    "            result = model.validation_step(Batch)\n",
    "            model.epoch_end(Epochs*NumIterationsPerEpoch + PerEpochCounter, result)\n",
    "            # Tensorboard\n",
    "            Writer.add_scalar('LossEveryIter', result[\"loss\"], Epochs*NumIterationsPerEpoch + PerEpochCounter)\n",
    "            Writer.add_scalar('Accuracy', result[\"acc\"], Epochs*NumIterationsPerEpoch + PerEpochCounter)\n",
    "            # If you don't flush the tensorboard doesn't update until a lot of iterations!\n",
    "            Writer.flush()\n",
    "\n",
    "        # Save model every epoch\n",
    "        SaveName = CheckPointPath + str(Epochs) + 'model.ckpt'\n",
    "        torch.save({'epoch': Epochs,'model_state_dict': model.state_dict(),'optimizer_state_dict': Optimizer.state_dict(),'loss': LossThisBatch}, SaveName)\n",
    "        print('\\n' + SaveName + ' Model Saved...')\n",
    "\n",
    "\n",
    "\n",
    "# Default Hyperparameters\n",
    "# NumEpochs = 10 # for simple model\n",
    "NumEpochs = 25\n",
    "TrainSet = torchvision.datasets.CIFAR10(root='./data', train=True,\n",
    "                                        download=True, transform=ToTensor())\n",
    "DivTrain = 1.0\n",
    "# MiniBatchSize = 256 # for simple model\n",
    "MiniBatchSize = 512\n",
    "LoadCheckPoint = 0\n",
    "CheckPointPath = \"/content/Checkpoints/\"\n",
    "LogsPath = \"/content/Logs\"\n",
    "\n",
    "# Setup all needed parameters including file reading\n",
    "SaveCheckPoint, ImageSize, NumTrainSamples, TrainLabels, NumClasses = SetupAll(CheckPointPath)\n",
    "\n",
    "# Find Latest Checkpoint File\n",
    "if LoadCheckPoint==1:\n",
    "    LatestFile = FindLatestModel(CheckPointPath)\n",
    "else:\n",
    "    LatestFile = None\n",
    "\n",
    "# Pretty print stats\n",
    "PrettyPrint(NumEpochs, DivTrain, MiniBatchSize, NumTrainSamples, LatestFile)\n",
    "\n",
    "TrainOperation(TrainLabels, NumTrainSamples, ImageSize,\n",
    "                NumEpochs, MiniBatchSize, SaveCheckPoint, CheckPointPath,\n",
    "                DivTrain, LatestFile, TrainSet, LogsPath)"
   ]
  },
  {
   "cell_type": "markdown",
   "metadata": {
    "id": "HKVVLygOJ1kd"
   },
   "source": [
    "### Test your neural network"
   ]
  },
  {
   "cell_type": "code",
   "execution_count": 105,
   "metadata": {
    "id": "lY-9nSVBJ282"
   },
   "outputs": [
    {
     "name": "stdout",
     "output_type": "stream",
     "text": [
      "Number of parameters in this model are 34 \n"
     ]
    },
    {
     "data": {
      "application/vnd.jupyter.widget-view+json": {
       "model_id": "6de2dcf710ef4dc1bf08b01c2cece7ea",
       "version_major": 2,
       "version_minor": 0
      },
      "text/plain": [
       "  0%|          | 0/10000 [00:00<?, ?it/s]"
      ]
     },
     "metadata": {},
     "output_type": "display_data"
    },
    {
     "name": "stderr",
     "output_type": "stream",
     "text": [
      "C:\\Users\\niran\\AppData\\Local\\Temp\\ipykernel_20172\\1585483989.py:353: UserWarning: Implicit dimension choice for softmax has been deprecated. Change the call to include dim=X as an argument.\n",
      "  out = F.softmax(self.fc3(out))\n"
     ]
    },
    {
     "name": "stdout",
     "output_type": "stream",
     "text": [
      "Number of parameters in this model are 34 \n"
     ]
    },
    {
     "data": {
      "application/vnd.jupyter.widget-view+json": {
       "model_id": "b5812b4d394040768e1ccbc77370e2bb",
       "version_major": 2,
       "version_minor": 0
      },
      "text/plain": [
       "  0%|          | 0/10000 [00:00<?, ?it/s]"
      ]
     },
     "metadata": {},
     "output_type": "display_data"
    },
    {
     "name": "stdout",
     "output_type": "stream",
     "text": [
      "Number of parameters in this model are 34 \n"
     ]
    },
    {
     "data": {
      "application/vnd.jupyter.widget-view+json": {
       "model_id": "9ffef0c9fa434df6bdcdac2102fde4b2",
       "version_major": 2,
       "version_minor": 0
      },
      "text/plain": [
       "  0%|          | 0/10000 [00:00<?, ?it/s]"
      ]
     },
     "metadata": {},
     "output_type": "display_data"
    },
    {
     "name": "stdout",
     "output_type": "stream",
     "text": [
      "Number of parameters in this model are 34 \n"
     ]
    },
    {
     "data": {
      "application/vnd.jupyter.widget-view+json": {
       "model_id": "b1e14c72f4084165bcc7aacb9112c16a",
       "version_major": 2,
       "version_minor": 0
      },
      "text/plain": [
       "  0%|          | 0/10000 [00:00<?, ?it/s]"
      ]
     },
     "metadata": {},
     "output_type": "display_data"
    },
    {
     "name": "stdout",
     "output_type": "stream",
     "text": [
      "Number of parameters in this model are 34 \n"
     ]
    },
    {
     "data": {
      "application/vnd.jupyter.widget-view+json": {
       "model_id": "420e4fdfbaf24595a14a06e2b0bba39b",
       "version_major": 2,
       "version_minor": 0
      },
      "text/plain": [
       "  0%|          | 0/10000 [00:00<?, ?it/s]"
      ]
     },
     "metadata": {},
     "output_type": "display_data"
    },
    {
     "name": "stdout",
     "output_type": "stream",
     "text": [
      "Number of parameters in this model are 34 \n"
     ]
    },
    {
     "data": {
      "application/vnd.jupyter.widget-view+json": {
       "model_id": "97ec625ad1484ff9b2a71d45a4cead55",
       "version_major": 2,
       "version_minor": 0
      },
      "text/plain": [
       "  0%|          | 0/10000 [00:00<?, ?it/s]"
      ]
     },
     "metadata": {},
     "output_type": "display_data"
    },
    {
     "name": "stdout",
     "output_type": "stream",
     "text": [
      "Number of parameters in this model are 34 \n"
     ]
    },
    {
     "data": {
      "application/vnd.jupyter.widget-view+json": {
       "model_id": "0ac70bf7dc5a44fb8f78c6c48e01ea75",
       "version_major": 2,
       "version_minor": 0
      },
      "text/plain": [
       "  0%|          | 0/10000 [00:00<?, ?it/s]"
      ]
     },
     "metadata": {},
     "output_type": "display_data"
    },
    {
     "name": "stdout",
     "output_type": "stream",
     "text": [
      "Number of parameters in this model are 34 \n"
     ]
    },
    {
     "data": {
      "application/vnd.jupyter.widget-view+json": {
       "model_id": "5efd1a8804c2436cb0563e15b8d8714d",
       "version_major": 2,
       "version_minor": 0
      },
      "text/plain": [
       "  0%|          | 0/10000 [00:00<?, ?it/s]"
      ]
     },
     "metadata": {},
     "output_type": "display_data"
    },
    {
     "name": "stdout",
     "output_type": "stream",
     "text": [
      "Number of parameters in this model are 34 \n"
     ]
    },
    {
     "data": {
      "application/vnd.jupyter.widget-view+json": {
       "model_id": "493e4c2713c74ed29360470400e3f48c",
       "version_major": 2,
       "version_minor": 0
      },
      "text/plain": [
       "  0%|          | 0/10000 [00:00<?, ?it/s]"
      ]
     },
     "metadata": {},
     "output_type": "display_data"
    },
    {
     "name": "stdout",
     "output_type": "stream",
     "text": [
      "Number of parameters in this model are 34 \n"
     ]
    },
    {
     "data": {
      "application/vnd.jupyter.widget-view+json": {
       "model_id": "8fa94f5160e84f86917fd86f7c2b8142",
       "version_major": 2,
       "version_minor": 0
      },
      "text/plain": [
       "  0%|          | 0/10000 [00:00<?, ?it/s]"
      ]
     },
     "metadata": {},
     "output_type": "display_data"
    },
    {
     "name": "stdout",
     "output_type": "stream",
     "text": [
      "Number of parameters in this model are 34 \n"
     ]
    },
    {
     "data": {
      "application/vnd.jupyter.widget-view+json": {
       "model_id": "563bfb1fc1474407a971630fb911efc4",
       "version_major": 2,
       "version_minor": 0
      },
      "text/plain": [
       "  0%|          | 0/10000 [00:00<?, ?it/s]"
      ]
     },
     "metadata": {},
     "output_type": "display_data"
    },
    {
     "name": "stdout",
     "output_type": "stream",
     "text": [
      "Number of parameters in this model are 34 \n"
     ]
    },
    {
     "data": {
      "application/vnd.jupyter.widget-view+json": {
       "model_id": "6796d2b7f5a54764ac1808e3e91351cb",
       "version_major": 2,
       "version_minor": 0
      },
      "text/plain": [
       "  0%|          | 0/10000 [00:00<?, ?it/s]"
      ]
     },
     "metadata": {},
     "output_type": "display_data"
    },
    {
     "name": "stdout",
     "output_type": "stream",
     "text": [
      "Number of parameters in this model are 34 \n"
     ]
    },
    {
     "data": {
      "application/vnd.jupyter.widget-view+json": {
       "model_id": "868e87fb69a04a219dc70422a78f82e0",
       "version_major": 2,
       "version_minor": 0
      },
      "text/plain": [
       "  0%|          | 0/10000 [00:00<?, ?it/s]"
      ]
     },
     "metadata": {},
     "output_type": "display_data"
    },
    {
     "name": "stdout",
     "output_type": "stream",
     "text": [
      "Number of parameters in this model are 34 \n"
     ]
    },
    {
     "data": {
      "application/vnd.jupyter.widget-view+json": {
       "model_id": "f7c1733efa3e4e7bb9ecdac613be4244",
       "version_major": 2,
       "version_minor": 0
      },
      "text/plain": [
       "  0%|          | 0/10000 [00:00<?, ?it/s]"
      ]
     },
     "metadata": {},
     "output_type": "display_data"
    },
    {
     "name": "stdout",
     "output_type": "stream",
     "text": [
      "Number of parameters in this model are 34 \n"
     ]
    },
    {
     "data": {
      "application/vnd.jupyter.widget-view+json": {
       "model_id": "5b497799498c4f82ba25ceff8cb42514",
       "version_major": 2,
       "version_minor": 0
      },
      "text/plain": [
       "  0%|          | 0/10000 [00:00<?, ?it/s]"
      ]
     },
     "metadata": {},
     "output_type": "display_data"
    },
    {
     "name": "stdout",
     "output_type": "stream",
     "text": [
      "Number of parameters in this model are 34 \n"
     ]
    },
    {
     "data": {
      "application/vnd.jupyter.widget-view+json": {
       "model_id": "6c0f13578ad94334a9b7fa545b0f563c",
       "version_major": 2,
       "version_minor": 0
      },
      "text/plain": [
       "  0%|          | 0/10000 [00:00<?, ?it/s]"
      ]
     },
     "metadata": {},
     "output_type": "display_data"
    },
    {
     "name": "stdout",
     "output_type": "stream",
     "text": [
      "Number of parameters in this model are 34 \n"
     ]
    },
    {
     "data": {
      "application/vnd.jupyter.widget-view+json": {
       "model_id": "1860f51be34b459290c6f3eeaab9e98e",
       "version_major": 2,
       "version_minor": 0
      },
      "text/plain": [
       "  0%|          | 0/10000 [00:00<?, ?it/s]"
      ]
     },
     "metadata": {},
     "output_type": "display_data"
    },
    {
     "name": "stdout",
     "output_type": "stream",
     "text": [
      "Number of parameters in this model are 34 \n"
     ]
    },
    {
     "data": {
      "application/vnd.jupyter.widget-view+json": {
       "model_id": "08e70593710a4d7ca49ba191567f098d",
       "version_major": 2,
       "version_minor": 0
      },
      "text/plain": [
       "  0%|          | 0/10000 [00:00<?, ?it/s]"
      ]
     },
     "metadata": {},
     "output_type": "display_data"
    },
    {
     "name": "stdout",
     "output_type": "stream",
     "text": [
      "Number of parameters in this model are 34 \n"
     ]
    },
    {
     "data": {
      "application/vnd.jupyter.widget-view+json": {
       "model_id": "7bf734bac0c8422cbb29e127336a0313",
       "version_major": 2,
       "version_minor": 0
      },
      "text/plain": [
       "  0%|          | 0/10000 [00:00<?, ?it/s]"
      ]
     },
     "metadata": {},
     "output_type": "display_data"
    },
    {
     "name": "stdout",
     "output_type": "stream",
     "text": [
      "Number of parameters in this model are 34 \n"
     ]
    },
    {
     "data": {
      "application/vnd.jupyter.widget-view+json": {
       "model_id": "0f7cf19e376b4e50a5612bb279715430",
       "version_major": 2,
       "version_minor": 0
      },
      "text/plain": [
       "  0%|          | 0/10000 [00:00<?, ?it/s]"
      ]
     },
     "metadata": {},
     "output_type": "display_data"
    },
    {
     "name": "stdout",
     "output_type": "stream",
     "text": [
      "Number of parameters in this model are 34 \n"
     ]
    },
    {
     "data": {
      "application/vnd.jupyter.widget-view+json": {
       "model_id": "4de8ec601e1b409e9ff7dc02abc1b13d",
       "version_major": 2,
       "version_minor": 0
      },
      "text/plain": [
       "  0%|          | 0/10000 [00:00<?, ?it/s]"
      ]
     },
     "metadata": {},
     "output_type": "display_data"
    },
    {
     "name": "stdout",
     "output_type": "stream",
     "text": [
      "Number of parameters in this model are 34 \n"
     ]
    },
    {
     "data": {
      "application/vnd.jupyter.widget-view+json": {
       "model_id": "4bd5bdff155a4cac902a55ac06c0db5e",
       "version_major": 2,
       "version_minor": 0
      },
      "text/plain": [
       "  0%|          | 0/10000 [00:00<?, ?it/s]"
      ]
     },
     "metadata": {},
     "output_type": "display_data"
    },
    {
     "name": "stdout",
     "output_type": "stream",
     "text": [
      "Number of parameters in this model are 34 \n"
     ]
    },
    {
     "data": {
      "application/vnd.jupyter.widget-view+json": {
       "model_id": "1332d08f62fa46e997049e49b861e554",
       "version_major": 2,
       "version_minor": 0
      },
      "text/plain": [
       "  0%|          | 0/10000 [00:00<?, ?it/s]"
      ]
     },
     "metadata": {},
     "output_type": "display_data"
    },
    {
     "name": "stdout",
     "output_type": "stream",
     "text": [
      "Number of parameters in this model are 34 \n"
     ]
    },
    {
     "data": {
      "application/vnd.jupyter.widget-view+json": {
       "model_id": "b527ed533c1648babce8f4b8fe291a4a",
       "version_major": 2,
       "version_minor": 0
      },
      "text/plain": [
       "  0%|          | 0/10000 [00:00<?, ?it/s]"
      ]
     },
     "metadata": {},
     "output_type": "display_data"
    },
    {
     "name": "stdout",
     "output_type": "stream",
     "text": [
      "Number of parameters in this model are 34 \n"
     ]
    },
    {
     "data": {
      "application/vnd.jupyter.widget-view+json": {
       "model_id": "a4336b0cc44146afaffed6e24a520a21",
       "version_major": 2,
       "version_minor": 0
      },
      "text/plain": [
       "  0%|          | 0/10000 [00:00<?, ?it/s]"
      ]
     },
     "metadata": {},
     "output_type": "display_data"
    },
    {
     "name": "stdout",
     "output_type": "stream",
     "text": [
      "[813  51   4   5   0   2   4   9  60  52] (0)\n",
      "[174 634   2   1   0   2   1  10  45 131] (1)\n",
      "[479  59 109  46   7  50   3  73  85  89] (2)\n",
      "[261 109  56 152   7  99   8  87  88 133] (3)\n",
      "[468  63  66  48  15  35   5 123  86  91] (4)\n",
      "[169  78  60 114   3 267   8 138  70  93] (5)\n",
      "[301 168  57  33  12  23  35  46 119 206] (6)\n",
      "[234  36  30  21   8  32   0 503  35 101] (7)\n",
      "[320 119   2   4   1   1   0   4 422 127] (8)\n",
      "[191 189   2   2   0   4   0  16  35 561] (9)\n",
      " (0) (1) (2) (3) (4) (5) (6) (7) (8) (9)\n",
      "Accuracy: 35.11 %\n"
     ]
    },
    {
     "ename": "ValueError",
     "evalue": "The number of FixedLocator locations (10), usually from a call to set_ticks, does not match the number of labels (2).",
     "output_type": "error",
     "traceback": [
      "\u001b[1;31m---------------------------------------------------------------------------\u001b[0m",
      "\u001b[1;31mValueError\u001b[0m                                Traceback (most recent call last)",
      "Cell \u001b[1;32mIn[105], line 164\u001b[0m\n\u001b[0;32m    162\u001b[0m cm \u001b[38;5;241m=\u001b[39m ConfusionMatrix(LabelsTrue, LabelsPred)\n\u001b[0;32m    163\u001b[0m confusion_matrix \u001b[38;5;241m=\u001b[39m metrics\u001b[38;5;241m.\u001b[39mConfusionMatrixDisplay(confusion_matrix \u001b[38;5;241m=\u001b[39m cm, display_labels \u001b[38;5;241m=\u001b[39m [\u001b[38;5;28;01mTrue\u001b[39;00m, \u001b[38;5;28;01mTrue\u001b[39;00m])\n\u001b[1;32m--> 164\u001b[0m \u001b[43mconfusion_matrix\u001b[49m\u001b[38;5;241;43m.\u001b[39;49m\u001b[43mplot\u001b[49m\u001b[43m(\u001b[49m\u001b[43m)\u001b[49m\n\u001b[0;32m    165\u001b[0m plt\u001b[38;5;241m.\u001b[39mshow()\n",
      "File \u001b[1;32m~\\AppData\\Local\\Packages\\PythonSoftwareFoundation.Python.3.11_qbz5n2kfra8p0\\LocalCache\\local-packages\\Python311\\site-packages\\sklearn\\metrics\\_plot\\confusion_matrix.py:181\u001b[0m, in \u001b[0;36mConfusionMatrixDisplay.plot\u001b[1;34m(self, include_values, cmap, xticks_rotation, values_format, ax, colorbar, im_kw, text_kw)\u001b[0m\n\u001b[0;32m    179\u001b[0m \u001b[38;5;28;01mif\u001b[39;00m colorbar:\n\u001b[0;32m    180\u001b[0m     fig\u001b[38;5;241m.\u001b[39mcolorbar(\u001b[38;5;28mself\u001b[39m\u001b[38;5;241m.\u001b[39mim_, ax\u001b[38;5;241m=\u001b[39max)\n\u001b[1;32m--> 181\u001b[0m \u001b[43max\u001b[49m\u001b[38;5;241;43m.\u001b[39;49m\u001b[43mset\u001b[49m\u001b[43m(\u001b[49m\n\u001b[0;32m    182\u001b[0m \u001b[43m    \u001b[49m\u001b[43mxticks\u001b[49m\u001b[38;5;241;43m=\u001b[39;49m\u001b[43mnp\u001b[49m\u001b[38;5;241;43m.\u001b[39;49m\u001b[43marange\u001b[49m\u001b[43m(\u001b[49m\u001b[43mn_classes\u001b[49m\u001b[43m)\u001b[49m\u001b[43m,\u001b[49m\n\u001b[0;32m    183\u001b[0m \u001b[43m    \u001b[49m\u001b[43myticks\u001b[49m\u001b[38;5;241;43m=\u001b[39;49m\u001b[43mnp\u001b[49m\u001b[38;5;241;43m.\u001b[39;49m\u001b[43marange\u001b[49m\u001b[43m(\u001b[49m\u001b[43mn_classes\u001b[49m\u001b[43m)\u001b[49m\u001b[43m,\u001b[49m\n\u001b[0;32m    184\u001b[0m \u001b[43m    \u001b[49m\u001b[43mxticklabels\u001b[49m\u001b[38;5;241;43m=\u001b[39;49m\u001b[43mdisplay_labels\u001b[49m\u001b[43m,\u001b[49m\n\u001b[0;32m    185\u001b[0m \u001b[43m    \u001b[49m\u001b[43myticklabels\u001b[49m\u001b[38;5;241;43m=\u001b[39;49m\u001b[43mdisplay_labels\u001b[49m\u001b[43m,\u001b[49m\n\u001b[0;32m    186\u001b[0m \u001b[43m    \u001b[49m\u001b[43mylabel\u001b[49m\u001b[38;5;241;43m=\u001b[39;49m\u001b[38;5;124;43m\"\u001b[39;49m\u001b[38;5;124;43mTrue label\u001b[39;49m\u001b[38;5;124;43m\"\u001b[39;49m\u001b[43m,\u001b[49m\n\u001b[0;32m    187\u001b[0m \u001b[43m    \u001b[49m\u001b[43mxlabel\u001b[49m\u001b[38;5;241;43m=\u001b[39;49m\u001b[38;5;124;43m\"\u001b[39;49m\u001b[38;5;124;43mPredicted label\u001b[39;49m\u001b[38;5;124;43m\"\u001b[39;49m\u001b[43m,\u001b[49m\n\u001b[0;32m    188\u001b[0m \u001b[43m\u001b[49m\u001b[43m)\u001b[49m\n\u001b[0;32m    190\u001b[0m ax\u001b[38;5;241m.\u001b[39mset_ylim((n_classes \u001b[38;5;241m-\u001b[39m \u001b[38;5;241m0.5\u001b[39m, \u001b[38;5;241m-\u001b[39m\u001b[38;5;241m0.5\u001b[39m))\n\u001b[0;32m    191\u001b[0m plt\u001b[38;5;241m.\u001b[39msetp(ax\u001b[38;5;241m.\u001b[39mget_xticklabels(), rotation\u001b[38;5;241m=\u001b[39mxticks_rotation)\n",
      "File \u001b[1;32m~\\AppData\\Local\\Packages\\PythonSoftwareFoundation.Python.3.11_qbz5n2kfra8p0\\LocalCache\\local-packages\\Python311\\site-packages\\matplotlib\\artist.py:147\u001b[0m, in \u001b[0;36mArtist.__init_subclass__.<locals>.<lambda>\u001b[1;34m(self, **kwargs)\u001b[0m\n\u001b[0;32m    139\u001b[0m \u001b[38;5;28;01mif\u001b[39;00m \u001b[38;5;129;01mnot\u001b[39;00m \u001b[38;5;28mhasattr\u001b[39m(\u001b[38;5;28mcls\u001b[39m\u001b[38;5;241m.\u001b[39mset, \u001b[38;5;124m'\u001b[39m\u001b[38;5;124m_autogenerated_signature\u001b[39m\u001b[38;5;124m'\u001b[39m):\n\u001b[0;32m    140\u001b[0m     \u001b[38;5;66;03m# Don't overwrite cls.set if the subclass or one of its parents\u001b[39;00m\n\u001b[0;32m    141\u001b[0m     \u001b[38;5;66;03m# has defined a set method set itself.\u001b[39;00m\n\u001b[0;32m    142\u001b[0m     \u001b[38;5;66;03m# If there was no explicit definition, cls.set is inherited from\u001b[39;00m\n\u001b[0;32m    143\u001b[0m     \u001b[38;5;66;03m# the hierarchy of auto-generated set methods, which hold the\u001b[39;00m\n\u001b[0;32m    144\u001b[0m     \u001b[38;5;66;03m# flag _autogenerated_signature.\u001b[39;00m\n\u001b[0;32m    145\u001b[0m     \u001b[38;5;28;01mreturn\u001b[39;00m\n\u001b[1;32m--> 147\u001b[0m \u001b[38;5;28mcls\u001b[39m\u001b[38;5;241m.\u001b[39mset \u001b[38;5;241m=\u001b[39m \u001b[38;5;28;01mlambda\u001b[39;00m \u001b[38;5;28mself\u001b[39m, \u001b[38;5;241m*\u001b[39m\u001b[38;5;241m*\u001b[39mkwargs: \u001b[43mArtist\u001b[49m\u001b[38;5;241;43m.\u001b[39;49m\u001b[43mset\u001b[49m\u001b[43m(\u001b[49m\u001b[38;5;28;43mself\u001b[39;49m\u001b[43m,\u001b[49m\u001b[43m \u001b[49m\u001b[38;5;241;43m*\u001b[39;49m\u001b[38;5;241;43m*\u001b[39;49m\u001b[43mkwargs\u001b[49m\u001b[43m)\u001b[49m\n\u001b[0;32m    148\u001b[0m \u001b[38;5;28mcls\u001b[39m\u001b[38;5;241m.\u001b[39mset\u001b[38;5;241m.\u001b[39m\u001b[38;5;18m__name__\u001b[39m \u001b[38;5;241m=\u001b[39m \u001b[38;5;124m\"\u001b[39m\u001b[38;5;124mset\u001b[39m\u001b[38;5;124m\"\u001b[39m\n\u001b[0;32m    149\u001b[0m \u001b[38;5;28mcls\u001b[39m\u001b[38;5;241m.\u001b[39mset\u001b[38;5;241m.\u001b[39m\u001b[38;5;18m__qualname__\u001b[39m \u001b[38;5;241m=\u001b[39m \u001b[38;5;124mf\u001b[39m\u001b[38;5;124m\"\u001b[39m\u001b[38;5;132;01m{\u001b[39;00m\u001b[38;5;28mcls\u001b[39m\u001b[38;5;241m.\u001b[39m\u001b[38;5;18m__qualname__\u001b[39m\u001b[38;5;132;01m}\u001b[39;00m\u001b[38;5;124m.set\u001b[39m\u001b[38;5;124m\"\u001b[39m\n",
      "File \u001b[1;32m~\\AppData\\Local\\Packages\\PythonSoftwareFoundation.Python.3.11_qbz5n2kfra8p0\\LocalCache\\local-packages\\Python311\\site-packages\\matplotlib\\artist.py:1227\u001b[0m, in \u001b[0;36mArtist.set\u001b[1;34m(self, **kwargs)\u001b[0m\n\u001b[0;32m   1223\u001b[0m \u001b[38;5;28;01mdef\u001b[39;00m \u001b[38;5;21mset\u001b[39m(\u001b[38;5;28mself\u001b[39m, \u001b[38;5;241m*\u001b[39m\u001b[38;5;241m*\u001b[39mkwargs):\n\u001b[0;32m   1224\u001b[0m     \u001b[38;5;66;03m# docstring and signature are auto-generated via\u001b[39;00m\n\u001b[0;32m   1225\u001b[0m     \u001b[38;5;66;03m# Artist._update_set_signature_and_docstring() at the end of the\u001b[39;00m\n\u001b[0;32m   1226\u001b[0m     \u001b[38;5;66;03m# module.\u001b[39;00m\n\u001b[1;32m-> 1227\u001b[0m     \u001b[38;5;28;01mreturn\u001b[39;00m \u001b[38;5;28;43mself\u001b[39;49m\u001b[38;5;241;43m.\u001b[39;49m\u001b[43m_internal_update\u001b[49m\u001b[43m(\u001b[49m\u001b[43mcbook\u001b[49m\u001b[38;5;241;43m.\u001b[39;49m\u001b[43mnormalize_kwargs\u001b[49m\u001b[43m(\u001b[49m\u001b[43mkwargs\u001b[49m\u001b[43m,\u001b[49m\u001b[43m \u001b[49m\u001b[38;5;28;43mself\u001b[39;49m\u001b[43m)\u001b[49m\u001b[43m)\u001b[49m\n",
      "File \u001b[1;32m~\\AppData\\Local\\Packages\\PythonSoftwareFoundation.Python.3.11_qbz5n2kfra8p0\\LocalCache\\local-packages\\Python311\\site-packages\\matplotlib\\artist.py:1219\u001b[0m, in \u001b[0;36mArtist._internal_update\u001b[1;34m(self, kwargs)\u001b[0m\n\u001b[0;32m   1212\u001b[0m \u001b[38;5;28;01mdef\u001b[39;00m \u001b[38;5;21m_internal_update\u001b[39m(\u001b[38;5;28mself\u001b[39m, kwargs):\n\u001b[0;32m   1213\u001b[0m \u001b[38;5;250m    \u001b[39m\u001b[38;5;124;03m\"\"\"\u001b[39;00m\n\u001b[0;32m   1214\u001b[0m \u001b[38;5;124;03m    Update artist properties without prenormalizing them, but generating\u001b[39;00m\n\u001b[0;32m   1215\u001b[0m \u001b[38;5;124;03m    errors as if calling `set`.\u001b[39;00m\n\u001b[0;32m   1216\u001b[0m \n\u001b[0;32m   1217\u001b[0m \u001b[38;5;124;03m    The lack of prenormalization is to maintain backcompatibility.\u001b[39;00m\n\u001b[0;32m   1218\u001b[0m \u001b[38;5;124;03m    \"\"\"\u001b[39;00m\n\u001b[1;32m-> 1219\u001b[0m     \u001b[38;5;28;01mreturn\u001b[39;00m \u001b[38;5;28;43mself\u001b[39;49m\u001b[38;5;241;43m.\u001b[39;49m\u001b[43m_update_props\u001b[49m\u001b[43m(\u001b[49m\n\u001b[0;32m   1220\u001b[0m \u001b[43m        \u001b[49m\u001b[43mkwargs\u001b[49m\u001b[43m,\u001b[49m\u001b[43m \u001b[49m\u001b[38;5;124;43m\"\u001b[39;49m\u001b[38;5;132;43;01m{cls.__name__}\u001b[39;49;00m\u001b[38;5;124;43m.set() got an unexpected keyword argument \u001b[39;49m\u001b[38;5;124;43m\"\u001b[39;49m\n\u001b[0;32m   1221\u001b[0m \u001b[43m        \u001b[49m\u001b[38;5;124;43m\"\u001b[39;49m\u001b[38;5;132;43;01m{prop_name!r}\u001b[39;49;00m\u001b[38;5;124;43m\"\u001b[39;49m\u001b[43m)\u001b[49m\n",
      "File \u001b[1;32m~\\AppData\\Local\\Packages\\PythonSoftwareFoundation.Python.3.11_qbz5n2kfra8p0\\LocalCache\\local-packages\\Python311\\site-packages\\matplotlib\\artist.py:1195\u001b[0m, in \u001b[0;36mArtist._update_props\u001b[1;34m(self, props, errfmt)\u001b[0m\n\u001b[0;32m   1192\u001b[0m             \u001b[38;5;28;01mif\u001b[39;00m \u001b[38;5;129;01mnot\u001b[39;00m \u001b[38;5;28mcallable\u001b[39m(func):\n\u001b[0;32m   1193\u001b[0m                 \u001b[38;5;28;01mraise\u001b[39;00m \u001b[38;5;167;01mAttributeError\u001b[39;00m(\n\u001b[0;32m   1194\u001b[0m                     errfmt\u001b[38;5;241m.\u001b[39mformat(\u001b[38;5;28mcls\u001b[39m\u001b[38;5;241m=\u001b[39m\u001b[38;5;28mtype\u001b[39m(\u001b[38;5;28mself\u001b[39m), prop_name\u001b[38;5;241m=\u001b[39mk))\n\u001b[1;32m-> 1195\u001b[0m             ret\u001b[38;5;241m.\u001b[39mappend(\u001b[43mfunc\u001b[49m\u001b[43m(\u001b[49m\u001b[43mv\u001b[49m\u001b[43m)\u001b[49m)\n\u001b[0;32m   1196\u001b[0m \u001b[38;5;28;01mif\u001b[39;00m ret:\n\u001b[0;32m   1197\u001b[0m     \u001b[38;5;28mself\u001b[39m\u001b[38;5;241m.\u001b[39mpchanged()\n",
      "File \u001b[1;32m~\\AppData\\Local\\Packages\\PythonSoftwareFoundation.Python.3.11_qbz5n2kfra8p0\\LocalCache\\local-packages\\Python311\\site-packages\\matplotlib\\axes\\_base.py:73\u001b[0m, in \u001b[0;36m_axis_method_wrapper.__set_name__.<locals>.wrapper\u001b[1;34m(self, *args, **kwargs)\u001b[0m\n\u001b[0;32m     72\u001b[0m \u001b[38;5;28;01mdef\u001b[39;00m \u001b[38;5;21mwrapper\u001b[39m(\u001b[38;5;28mself\u001b[39m, \u001b[38;5;241m*\u001b[39margs, \u001b[38;5;241m*\u001b[39m\u001b[38;5;241m*\u001b[39mkwargs):\n\u001b[1;32m---> 73\u001b[0m     \u001b[38;5;28;01mreturn\u001b[39;00m \u001b[43mget_method\u001b[49m\u001b[43m(\u001b[49m\u001b[38;5;28;43mself\u001b[39;49m\u001b[43m)\u001b[49m\u001b[43m(\u001b[49m\u001b[38;5;241;43m*\u001b[39;49m\u001b[43margs\u001b[49m\u001b[43m,\u001b[49m\u001b[43m \u001b[49m\u001b[38;5;241;43m*\u001b[39;49m\u001b[38;5;241;43m*\u001b[39;49m\u001b[43mkwargs\u001b[49m\u001b[43m)\u001b[49m\n",
      "File \u001b[1;32m~\\AppData\\Local\\Packages\\PythonSoftwareFoundation.Python.3.11_qbz5n2kfra8p0\\LocalCache\\local-packages\\Python311\\site-packages\\matplotlib\\_api\\deprecation.py:297\u001b[0m, in \u001b[0;36mrename_parameter.<locals>.wrapper\u001b[1;34m(*args, **kwargs)\u001b[0m\n\u001b[0;32m    292\u001b[0m     warn_deprecated(\n\u001b[0;32m    293\u001b[0m         since, message\u001b[38;5;241m=\u001b[39m\u001b[38;5;124mf\u001b[39m\u001b[38;5;124m\"\u001b[39m\u001b[38;5;124mThe \u001b[39m\u001b[38;5;132;01m{\u001b[39;00mold\u001b[38;5;132;01m!r}\u001b[39;00m\u001b[38;5;124m parameter of \u001b[39m\u001b[38;5;132;01m{\u001b[39;00mfunc\u001b[38;5;241m.\u001b[39m\u001b[38;5;18m__name__\u001b[39m\u001b[38;5;132;01m}\u001b[39;00m\u001b[38;5;124m() \u001b[39m\u001b[38;5;124m\"\u001b[39m\n\u001b[0;32m    294\u001b[0m         \u001b[38;5;124mf\u001b[39m\u001b[38;5;124m\"\u001b[39m\u001b[38;5;124mhas been renamed \u001b[39m\u001b[38;5;132;01m{\u001b[39;00mnew\u001b[38;5;132;01m!r}\u001b[39;00m\u001b[38;5;124m since Matplotlib \u001b[39m\u001b[38;5;132;01m{\u001b[39;00msince\u001b[38;5;132;01m}\u001b[39;00m\u001b[38;5;124m; support \u001b[39m\u001b[38;5;124m\"\u001b[39m\n\u001b[0;32m    295\u001b[0m         \u001b[38;5;124mf\u001b[39m\u001b[38;5;124m\"\u001b[39m\u001b[38;5;124mfor the old name will be dropped %(removal)s.\u001b[39m\u001b[38;5;124m\"\u001b[39m)\n\u001b[0;32m    296\u001b[0m     kwargs[new] \u001b[38;5;241m=\u001b[39m kwargs\u001b[38;5;241m.\u001b[39mpop(old)\n\u001b[1;32m--> 297\u001b[0m \u001b[38;5;28;01mreturn\u001b[39;00m \u001b[43mfunc\u001b[49m\u001b[43m(\u001b[49m\u001b[38;5;241;43m*\u001b[39;49m\u001b[43margs\u001b[49m\u001b[43m,\u001b[49m\u001b[43m \u001b[49m\u001b[38;5;241;43m*\u001b[39;49m\u001b[38;5;241;43m*\u001b[39;49m\u001b[43mkwargs\u001b[49m\u001b[43m)\u001b[49m\n",
      "File \u001b[1;32m~\\AppData\\Local\\Packages\\PythonSoftwareFoundation.Python.3.11_qbz5n2kfra8p0\\LocalCache\\local-packages\\Python311\\site-packages\\matplotlib\\axis.py:2025\u001b[0m, in \u001b[0;36mAxis.set_ticklabels\u001b[1;34m(self, labels, minor, fontdict, **kwargs)\u001b[0m\n\u001b[0;32m   2021\u001b[0m \u001b[38;5;28;01melif\u001b[39;00m \u001b[38;5;28misinstance\u001b[39m(locator, mticker\u001b[38;5;241m.\u001b[39mFixedLocator):\n\u001b[0;32m   2022\u001b[0m     \u001b[38;5;66;03m# Passing [] as a list of labels is often used as a way to\u001b[39;00m\n\u001b[0;32m   2023\u001b[0m     \u001b[38;5;66;03m# remove all tick labels, so only error for > 0 labels\u001b[39;00m\n\u001b[0;32m   2024\u001b[0m     \u001b[38;5;28;01mif\u001b[39;00m \u001b[38;5;28mlen\u001b[39m(locator\u001b[38;5;241m.\u001b[39mlocs) \u001b[38;5;241m!=\u001b[39m \u001b[38;5;28mlen\u001b[39m(labels) \u001b[38;5;129;01mand\u001b[39;00m \u001b[38;5;28mlen\u001b[39m(labels) \u001b[38;5;241m!=\u001b[39m \u001b[38;5;241m0\u001b[39m:\n\u001b[1;32m-> 2025\u001b[0m         \u001b[38;5;28;01mraise\u001b[39;00m \u001b[38;5;167;01mValueError\u001b[39;00m(\n\u001b[0;32m   2026\u001b[0m             \u001b[38;5;124m\"\u001b[39m\u001b[38;5;124mThe number of FixedLocator locations\u001b[39m\u001b[38;5;124m\"\u001b[39m\n\u001b[0;32m   2027\u001b[0m             \u001b[38;5;124mf\u001b[39m\u001b[38;5;124m\"\u001b[39m\u001b[38;5;124m (\u001b[39m\u001b[38;5;132;01m{\u001b[39;00m\u001b[38;5;28mlen\u001b[39m(locator\u001b[38;5;241m.\u001b[39mlocs)\u001b[38;5;132;01m}\u001b[39;00m\u001b[38;5;124m), usually from a call to\u001b[39m\u001b[38;5;124m\"\u001b[39m\n\u001b[0;32m   2028\u001b[0m             \u001b[38;5;124m\"\u001b[39m\u001b[38;5;124m set_ticks, does not match\u001b[39m\u001b[38;5;124m\"\u001b[39m\n\u001b[0;32m   2029\u001b[0m             \u001b[38;5;124mf\u001b[39m\u001b[38;5;124m\"\u001b[39m\u001b[38;5;124m the number of labels (\u001b[39m\u001b[38;5;132;01m{\u001b[39;00m\u001b[38;5;28mlen\u001b[39m(labels)\u001b[38;5;132;01m}\u001b[39;00m\u001b[38;5;124m).\u001b[39m\u001b[38;5;124m\"\u001b[39m)\n\u001b[0;32m   2030\u001b[0m     tickd \u001b[38;5;241m=\u001b[39m {loc: lab \u001b[38;5;28;01mfor\u001b[39;00m loc, lab \u001b[38;5;129;01min\u001b[39;00m \u001b[38;5;28mzip\u001b[39m(locator\u001b[38;5;241m.\u001b[39mlocs, labels)}\n\u001b[0;32m   2031\u001b[0m     func \u001b[38;5;241m=\u001b[39m functools\u001b[38;5;241m.\u001b[39mpartial(\u001b[38;5;28mself\u001b[39m\u001b[38;5;241m.\u001b[39m_format_with_dict, tickd)\n",
      "\u001b[1;31mValueError\u001b[0m: The number of FixedLocator locations (10), usually from a call to set_ticks, does not match the number of labels (2)."
     ]
    },
    {
     "data": {
      "image/png": "[encoded data removed]",
      "text/plain": [
       "<Figure size 640x480 with 2 Axes>"
      ]
     },
     "metadata": {},
     "output_type": "display_data"
    }
   ],
   "source": [
    "import cv2\n",
    "import os\n",
    "import sys\n",
    "import glob\n",
    "import random\n",
    "from skimage import data, exposure, img_as_float\n",
    "import matplotlib.pyplot as plt\n",
    "import numpy as np\n",
    "import time\n",
    "from torchvision.transforms import ToTensor, functional\n",
    "import argparse\n",
    "import shutil\n",
    "import string\n",
    "import math as m\n",
    "from sklearn.metrics import confusion_matrix\n",
    "from tqdm.notebook import tqdm\n",
    "import torch\n",
    "\n",
    "def SetupAll():\n",
    "    \"\"\"\n",
    "    Outputs:\n",
    "    ImageSize - Size of the Image\n",
    "    \"\"\"\n",
    "    # Image Input Shape\n",
    "    ImageSize = [32, 32, 3]\n",
    "\n",
    "    return ImageSize\n",
    "\n",
    "def StandardizeInputs(Img):\n",
    "    ##########################################################################\n",
    "    # Add any standardization or cropping/resizing if used in Training here!\n",
    "    ##########################################################################\n",
    "    return Img\n",
    "\n",
    "def ReadImages(Img):\n",
    "    \"\"\"\n",
    "    Outputs:\n",
    "    I1Combined - I1 image after any standardization and/or cropping/resizing to ImageSize\n",
    "    I1 - Original I1 image for visualization purposes only\n",
    "    \"\"\"\n",
    "    I1 = Img\n",
    "\n",
    "    if(I1 is None):\n",
    "        # OpenCV returns empty list if image is not read!\n",
    "        print('ERROR: Image I1 cannot be read')\n",
    "        sys.exit()\n",
    "\n",
    "    I1S = StandardizeInputs(np.float32(I1))\n",
    "\n",
    "    I1Combined = np.expand_dims(I1S, axis=0)\n",
    "\n",
    "    return I1Combined, I1\n",
    "\n",
    "\n",
    "def TestOperation(ImageSize, ModelPath, TestSet, LabelsPathPred):\n",
    "    \"\"\"\n",
    "    Inputs:\n",
    "    ImageSize is the size of the image\n",
    "    ModelPath - Path to load trained model from\n",
    "    TestSet - The test dataset\n",
    "    LabelsPathPred - Path to save predictions\n",
    "    Outputs:\n",
    "    Predictions written to /content/data/TxtFiles/PredOut.txt\n",
    "    \"\"\"\n",
    "    # Predict output with forward pass, MiniBatchSize for Test is 1\n",
    "    model = CIFAR10Model(InputSize= 3072 ,OutputSize=10)\n",
    "    # model = CIFAR10Model2(InputSize =  3072 ,OutputSize=10)\n",
    "    # model = ResNet(InputSize= 3072 ,OutputSize=10)\n",
    "    # model = ResNeXT(InputSize= 3072 ,OutputSize=10)\n",
    "    # model = DenseNet(InputSize= 3072 ,OutputSize=10)\n",
    "    model.eval()\n",
    "\n",
    "    CheckPoint = torch.load(ModelPath)\n",
    "    model.load_state_dict(CheckPoint['model_state_dict'])\n",
    "    print('Number of parameters in this model are %d ' % len(model.state_dict().items()))\n",
    "\n",
    "    OutSaveT = open(LabelsPathPred, 'w')\n",
    "\n",
    "    for count in tqdm(range(len(TestSet))):\n",
    "        Img, Label = TestSet[count]\n",
    "        Img, ImgOrg = ReadImages(Img)\n",
    "        Img = np.reshape(Img,(32,32,3))\n",
    "        Img = functional.to_tensor(Img)\n",
    "        # PredT = model(Img)\n",
    "        PredT = model(Img.unsqueeze(0))\n",
    "        # PredT = torch.argmax(model(Img)).item()\n",
    "        PredT = torch.argmax(model(Img.unsqueeze(0))).item()\n",
    "        OutSaveT.write(str(PredT)+'\\n')\n",
    "    OutSaveT.close()\n",
    "\n",
    "def Accuracy(Pred, GT):\n",
    "    \"\"\"\n",
    "    Inputs:\n",
    "    Pred are the predicted labels\n",
    "    GT are the ground truth labels\n",
    "    Outputs:\n",
    "    Accuracy in percentage\n",
    "    \"\"\"\n",
    "    return (np.sum(np.array(Pred)==np.array(GT))*100.0/len(Pred))\n",
    "\n",
    "def ReadLabels(LabelsPathTest, LabelsPathPred):\n",
    "    if(not (os.path.isfile(LabelsPathTest))):\n",
    "        print('ERROR: Test Labels do not exist in '+LabelsPathTest)\n",
    "        sys.exit()\n",
    "    else:\n",
    "        LabelTest = open(LabelsPathTest, 'r')\n",
    "        LabelTest = LabelTest.read()\n",
    "        LabelTest = map(float, LabelTest.split())\n",
    "\n",
    "    if(not (os.path.isfile(LabelsPathPred))):\n",
    "        print('ERROR: Pred Labels do not exist in '+LabelsPathPred)\n",
    "        sys.exit()\n",
    "    else:\n",
    "        LabelPred = open(LabelsPathPred, 'r')\n",
    "        LabelPred = LabelPred.read()\n",
    "        LabelPred = map(float, LabelPred.split())\n",
    "\n",
    "    return LabelTest, LabelPred\n",
    "\n",
    "def ConfusionMatrix(LabelsTrue, LabelsPred):\n",
    "    \"\"\"\n",
    "    LabelsTrue - True labels\n",
    "    LabelsPred - Predicted labels\n",
    "    \"\"\"\n",
    "\n",
    "    # Get the confusion matrix using sklearn.\n",
    "    LabelsTrue, LabelsPred = list(LabelsTrue), list(LabelsPred)\n",
    "    cm = confusion_matrix(y_true=LabelsTrue,  # True class for test-set.\n",
    "                          y_pred=LabelsPred)  # Predicted class.\n",
    "\n",
    "    # Print the confusion matrix as text.\n",
    "    for i in range(10):\n",
    "        print(str(cm[i, :]) + ' ({0})'.format(i))\n",
    "\n",
    "    # Print the class-numbers for easy reference.\n",
    "    class_numbers = [\" ({0})\".format(i) for i in range(10)]\n",
    "    print(\"\".join(class_numbers))\n",
    "\n",
    "    print('Accuracy: '+ str(Accuracy(LabelsPred, LabelsTrue)), '%')\n",
    "\n",
    "    return cm\n",
    "\n",
    "for i in range(NumEpochs):\n",
    "    # ModelPath = \"/content/Checkpoints/0a100model.ckpt\"\n",
    "    ModelPath = \"/content/Checkpoints/\"+ str(i) +\"a0model.ckpt\"\n",
    "    # LabelsPath = \"TxtFiles/LabelsTest.txt\"\n",
    "    LabelsPath = \"/content/data/TxtFiles/LabelsTest.txt\"\n",
    "    TestSet = CIFAR10(root='data/', train=False)\n",
    "\n",
    "\n",
    "    # Setup all needed parameters including file reading\n",
    "    ImageSize = SetupAll()\n",
    "\n",
    "    # Define PlaceHolder variables for Input and Predicted output\n",
    "    # LabelsPathPred = 'TxtFiles/PredOut.txt' # Path to save predicted labels\n",
    "    LabelsPathPred = '/content/data/TxtFiles/PredOut.txt' # Path to save predicted labels\n",
    "\n",
    "    TestOperation(ImageSize, ModelPath, TestSet, LabelsPathPred)\n",
    "\n",
    " # Plot Confusion Matrix\n",
    "LabelsTrue, LabelsPred = ReadLabels(LabelsPath, LabelsPathPred)\n",
    "cm = ConfusionMatrix(LabelsTrue, LabelsPred)\n",
    "confusion_matrix = metrics.ConfusionMatrixDisplay(confusion_matrix = cm, display_labels = [True, True])\n",
    "# confusion_matrix.plot()\n",
    "# plt.show()\n",
    "\n",
    "#printing model parameters\n",
    "# def model_summary(model):\n",
    "#   print(\"model_summary\")\n",
    "#   print()\n",
    "#   print(\"Layer_name\"+\"\\t\"*7+\"Number of Parameters\")\n",
    "#   print(\"=\"*100)\n",
    "#   model_parameters = [layer for layer in model.parameters() if layer.requires_grad]\n",
    "#   layer_name = [child for child in model.children()]\n",
    "#   j = 0\n",
    "#   total_params = 0\n",
    "#   print(\"\\t\"*10)\n",
    "#   for i in layer_name:\n",
    "#     print()\n",
    "#     param = 0\n",
    "#     try:\n",
    "#       bias = (i.bias is not None)\n",
    "#     except:\n",
    "#       bias = False\n",
    "#     if not bias:\n",
    "#       param =model_parameters[j].numel()+model_parameters[j+1].numel()\n",
    "#       j = j+2\n",
    "#     else:\n",
    "#       param =model_parameters[j].numel()\n",
    "#       j = j+1\n",
    "#     print(str(i)+\"\\t\"*3+str(param))\n",
    "#     total_params+=param\n",
    "#   print(\"=\"*100)\n",
    "#   print(f\"Total Params:{total_params}\")\n",
    "\n",
    "# model = ResNeXT(InputSize= 3072 ,OutputSize=10)\n",
    "# model_summary(model)"
   ]
  }
 ],
 "metadata": {
  "colab": {
   "collapsed_sections": [],
   "name": "hw0_to_be_filled.ipynb",
   "provenance": [],
   "toc_visible": true
  },
  "kernelspec": {
   "display_name": "Python 3 (ipykernel)",
   "language": "python",
   "name": "python3"
  },
  "language_info": {
   "codemirror_mode": {
    "name": "ipython",
    "version": 3
   },
   "file_extension": ".py",
   "mimetype": "text/x-python",
   "name": "python",
   "nbconvert_exporter": "python",
   "pygments_lexer": "ipython3",
   "version": "3.11.7"
  },
  "vscode": {
   "interpreter": {
    "hash": "2762af0fb94193cc770e2dbb99b50503f4c838317f9fa63bb8a7461c3d6fd280"
   }
  }
 },
 "nbformat": 4,
 "nbformat_minor": 4
}
